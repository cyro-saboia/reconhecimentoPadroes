{
 "cells": [
  {
   "cell_type": "code",
   "execution_count": 2,
   "id": "8aacafaf-07c8-4015-a27b-07a51ac91b0d",
   "metadata": {},
   "outputs": [
    {
     "name": "stdout",
     "output_type": "stream",
     "text": [
      "Matriz de Covariância:\n",
      "[[ 0.06308743  0.00027978  0.03238248  0.01814312  0.01125057]\n",
      " [ 0.00027978  0.05909566 -0.0152513   0.00914645 -0.00998767]\n",
      " [ 0.03238248 -0.0152513   0.09761064 -0.001625    0.02631182]\n",
      " [ 0.01814312  0.00914645 -0.001625    0.0715902  -0.00504674]\n",
      " [ 0.01125057 -0.00998767  0.02631182 -0.00504674  0.08780579]]\n"
     ]
    }
   ],
   "source": [
    "import numpy as np\n",
    "\n",
    "# Gere dados de exemplo com 30 linhas e 5 colunas (substitua por seus próprios dados)\n",
    "np.random.seed(0)\n",
    "data = np.random.rand(30, 5)\n",
    "\n",
    "# 1. Calcule a média das colunas (μ)\n",
    "mean = np.mean(data, axis=0)\n",
    "\n",
    "# 2. Centralize os dados subtraindo a média de cada amostra (x)\n",
    "centered_data = data - mean\n",
    "\n",
    "# 3. Inicialize a matriz de covariância\n",
    "cov_matrix = np.zeros((5, 5))\n",
    "\n",
    "# 4. Calcule a matriz de covariância\n",
    "N = len(data)\n",
    "for n in range(N):\n",
    "    x = centered_data[n, :].reshape(-1, 1)  # Transforma x em um vetor coluna\n",
    "    cov_matrix += np.dot(x, x.T)  # Calcula x * x^T e acumula na matriz de covariância\n",
    "\n",
    "# Divida a matriz de covariância pela quantidade de amostras\n",
    "cov_matrix /= N\n",
    "\n",
    "# A matriz de covariância está armazenada em cov_matrix\n",
    "print(\"Matriz de Covariância:\")\n",
    "print(cov_matrix)\n"
   ]
  }
 ],
 "metadata": {
  "kernelspec": {
   "display_name": "Python 3 (ipykernel)",
   "language": "python",
   "name": "python3"
  },
  "language_info": {
   "codemirror_mode": {
    "name": "ipython",
    "version": 3
   },
   "file_extension": ".py",
   "mimetype": "text/x-python",
   "name": "python",
   "nbconvert_exporter": "python",
   "pygments_lexer": "ipython3",
   "version": "3.8.2"
  }
 },
 "nbformat": 4,
 "nbformat_minor": 5
}
