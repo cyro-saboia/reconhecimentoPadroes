{
 "cells": [
  {
   "cell_type": "code",
   "execution_count": 1,
   "id": "f2ca9820-a835-4268-8898-616ea4f4e14a",
   "metadata": {},
   "outputs": [],
   "source": [
    "import pandas as pd\n",
    "import numpy as np"
   ]
  },
  {
   "cell_type": "code",
   "execution_count": 2,
   "id": "8eec28b7-2d47-4da1-9c24-058ccb0d3642",
   "metadata": {},
   "outputs": [
    {
     "name": "stdout",
     "output_type": "stream",
     "text": [
      "(351, 34)\n"
     ]
    }
   ],
   "source": [
    "file = 'ionosphere.data'\n",
    "data = pd.read_csv(file, header=None)\n",
    "# removendo a ultima coluna dos dados\n",
    "# The 35th attribute is either \"good\" or \"bad\" according to the definition summarized above.  This is a binary classification task.\n",
    "data = data.iloc[:, :-1]\n",
    "print(data.shape)"
   ]
  },
  {
   "cell_type": "markdown",
   "id": "e53fbe10-fc72-4910-b092-4fba85cff77e",
   "metadata": {},
   "source": [
    "# Posto covariância global"
   ]
  },
  {
   "cell_type": "code",
   "execution_count": 3,
   "id": "5396ec55-646c-43da-8880-87139188ea19",
   "metadata": {},
   "outputs": [
    {
     "name": "stdout",
     "output_type": "stream",
     "text": [
      "(34, 34)\n"
     ]
    }
   ],
   "source": [
    "cov = np.cov(data, rowvar=False)\n",
    "print(cov.shape)"
   ]
  },
  {
   "cell_type": "code",
   "execution_count": 4,
   "id": "0e1caf51-83f4-446d-8946-10c7e422d3ec",
   "metadata": {},
   "outputs": [
    {
     "name": "stdout",
     "output_type": "stream",
     "text": [
      "O posto da matriz é: 33\n"
     ]
    }
   ],
   "source": [
    "rank = np.linalg.matrix_rank(cov)\n",
    "print(\"O posto da matriz é:\", rank)"
   ]
  },
  {
   "cell_type": "code",
   "execution_count": 5,
   "id": "1682c4a1-2c59-47f6-98f0-a96a5abffada",
   "metadata": {},
   "outputs": [
    {
     "name": "stdout",
     "output_type": "stream",
     "text": [
      "Número de condicionamento da matriz de covariância é: 4.566434323856074e+17\n"
     ]
    }
   ],
   "source": [
    "cond = np.linalg.cond(cov)\n",
    "print(\"Número de condicionamento da matriz de covariância é:\", cond)"
   ]
  },
  {
   "cell_type": "markdown",
   "id": "121b7d7e-00e8-4535-8ca9-a78788d67a1a",
   "metadata": {},
   "source": [
    "# Posto covariância de cada classe"
   ]
  },
  {
   "cell_type": "code",
   "execution_count": 6,
   "id": "d79e7d9f-b269-406a-9c5d-9a1fe282dd1b",
   "metadata": {},
   "outputs": [
    {
     "name": "stdout",
     "output_type": "stream",
     "text": [
      "(351, 35)\n"
     ]
    }
   ],
   "source": [
    "data = pd.read_csv(file, header=None)\n",
    "print(data.shape)"
   ]
  },
  {
   "cell_type": "code",
   "execution_count": 7,
   "id": "68360f9a-a9b1-42ca-a7ed-44863a35c088",
   "metadata": {},
   "outputs": [
    {
     "name": "stdout",
     "output_type": "stream",
     "text": [
      "(126, 35)\n",
      "(225, 35)\n",
      "(126, 34)\n",
      "(34, 34)\n",
      "(225, 34)\n",
      "(34, 34)\n"
     ]
    }
   ],
   "source": [
    "classe_b = data[data.iloc[:, -1] == 'b']\n",
    "print(classe_b.shape)\n",
    "classe_g = data[data.iloc[:, -1] == 'g']\n",
    "print(classe_g.shape)\n",
    "\n",
    "data_classe_b = classe_b.iloc[:, :-1]\n",
    "print(data_classe_b.shape)\n",
    "cov_classe_b = np.cov(data_classe_b, rowvar=False)\n",
    "print(cov_classe_b.shape)\n",
    "\n",
    "data_classe_g = classe_g.iloc[:, :-1]\n",
    "print(data_classe_g.shape)\n",
    "cov_classe_g = np.cov(data_classe_g, rowvar=False)\n",
    "print(cov_classe_g.shape)"
   ]
  },
  {
   "cell_type": "code",
   "execution_count": 8,
   "id": "4327e9eb-d3f7-4cec-b5d3-63d39ba66178",
   "metadata": {},
   "outputs": [
    {
     "name": "stdout",
     "output_type": "stream",
     "text": [
      "O posto da matriz label B é: 33\n",
      "O posto da matriz label G é: 32\n"
     ]
    }
   ],
   "source": [
    "rank_b = np.linalg.matrix_rank(cov_classe_b)\n",
    "rank_g = np.linalg.matrix_rank(cov_classe_g)\n",
    "print(\"O posto da matriz label B é:\", rank_b)\n",
    "print(\"O posto da matriz label G é:\", rank_g)"
   ]
  },
  {
   "cell_type": "code",
   "execution_count": 9,
   "id": "28f698ff-1daf-456c-a6d4-d372caa1f28a",
   "metadata": {},
   "outputs": [
    {
     "name": "stdout",
     "output_type": "stream",
     "text": [
      "Número de condicionamento da matriz de covariância de B é: 9.380978013700107e+16\n",
      "Número de condicionamento da matriz de covariância de G é: inf\n"
     ]
    }
   ],
   "source": [
    "cond_b = np.linalg.cond(cov_classe_b)\n",
    "print(\"Número de condicionamento da matriz de covariância de B é:\", cond_b)\n",
    "\n",
    "cond_g = np.linalg.cond(cov_classe_g)\n",
    "print(\"Número de condicionamento da matriz de covariância de G é:\", cond_g)\n"
   ]
  },
  {
   "cell_type": "markdown",
   "id": "ed064226-6a44-4348-a5bd-684c06a6c772",
   "metadata": {},
   "source": [
    "# As matrizes são invertíveis?"
   ]
  },
  {
   "cell_type": "markdown",
   "id": "b2d22e37-bb9c-472b-894d-c48e5b629d05",
   "metadata": {},
   "source": [
    "Dado que o número de colunas das features é 34 e o número do posto é 33 para a classe B e 32 para a classe G, a matriz não é invertível."
   ]
  },
  {
   "cell_type": "markdown",
   "id": "b4ebddfb-2fc9-4933-9cc0-b3f87b0e3cf7",
   "metadata": {},
   "source": [
    "# São numericamente bem-condicionadas?"
   ]
  },
  {
   "cell_type": "markdown",
   "id": "7868abf2-a8dd-41f3-b3f7-4afa09a79089",
   "metadata": {},
   "source": [
    "4.566434323856074e+17Considerando os valores:\n",
    "Número de condicionamento da matriz de covariância é: 4.566434323856074e+17\n",
    "\n",
    "Número de condicionamento da matriz de covariância de B é: 9.380978013700107e+16\n",
    "\n",
    "Número de condicionamento da matriz de covariância de G é: inf\n",
    "\n",
    "podemos dizer que elas NÃO são numericamente bem-condicionadas dado que os resultados do condicionamentoe stão muito distantes de 1."
   ]
  }
 ],
 "metadata": {
  "kernelspec": {
   "display_name": "Python 3",
   "language": "python",
   "name": "python3"
  },
  "language_info": {
   "codemirror_mode": {
    "name": "ipython",
    "version": 3
   },
   "file_extension": ".py",
   "mimetype": "text/x-python",
   "name": "python",
   "nbconvert_exporter": "python",
   "pygments_lexer": "ipython3",
   "version": "3.8.2"
  }
 },
 "nbformat": 4,
 "nbformat_minor": 5
}
