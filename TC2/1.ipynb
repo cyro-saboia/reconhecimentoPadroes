{
 "cells": [
  {
   "cell_type": "code",
   "execution_count": 1,
   "id": "d0c153cb-9c48-4e3a-a32e-40d5ec15c3c5",
   "metadata": {},
   "outputs": [],
   "source": [
    "import numpy as np\n",
    "import matplotlib.pyplot as plt"
   ]
  },
  {
   "cell_type": "markdown",
   "id": "a4a630a4-4ae0-49c5-ae48-d36b00c3c2d5",
   "metadata": {},
   "source": [
    "## Geração de dados artificiais com as características estatísticas desejadas de covariância."
   ]
  },
  {
   "cell_type": "code",
   "execution_count": 10,
   "id": "da381b4e-1b57-461b-8739-ef619c6d56d6",
   "metadata": {},
   "outputs": [
    {
     "name": "stdout",
     "output_type": "stream",
     "text": [
      "(3, 5000)\n",
      "(3, 3)\n"
     ]
    },
    {
     "data": {
      "text/plain": [
       "array([[ 1. ,  1.8, -0.9],\n",
       "       [ 1.8,  4. ,  0.6],\n",
       "       [-0.9,  0.6,  9. ]])"
      ]
     },
     "execution_count": 10,
     "metadata": {},
     "output_type": "execute_result"
    }
   ],
   "source": [
    "# Gera dados gaussianos com atributos não-correlacionados\n",
    "m1 = 5  # Média teórica do atributo 1\n",
    "sig1 = 1  # Desvio-padrao teorico do atributo 1\n",
    "\n",
    "m2 = -5  # Média teórica do atributo 2\n",
    "sig2 = sig1  # Desvio-padrao teorico do atributo 2\n",
    "\n",
    "m3 = 0  # Média teórica do atributo 3\n",
    "sig3 = sig1  # Desvio-padrao teorico do atributo 3\n",
    "\n",
    "N = 5000  # Quantidade de observacoes geradas de cada atributo\n",
    "X1 = np.random.normal(m1, sig1, N)\n",
    "X2 = np.random.normal(m2, sig2, N)\n",
    "X3 = np.random.normal(m3, sig3, N)\n",
    "\n",
    "Xu = np.vstack((X1, X2, X3))  # Agrupa dados dos atributos em uma unica matriz\n",
    "\n",
    "# Matriz desejada para os dados\n",
    "Cd = np.array([[1, 1.8, -0.9], [1.8, 4, 0.6], [-0.9, 0.6, 9]])\n",
    "\n",
    "print(Xu.shape)\n",
    "print(Cd.shape)\n",
    "Cd"
   ]
  },
  {
   "cell_type": "markdown",
   "id": "e565041d-c55b-45b4-b12d-97cff22c745b",
   "metadata": {},
   "source": [
    "## Método de Choleski para decompor a matriz de covariância desejada e correlacionar os 3 atributos gaussianos inicialmente nãocorrelacionados"
   ]
  },
  {
   "cell_type": "code",
   "execution_count": 11,
   "id": "46134c11-fea5-4182-9af3-b7562834b2ef",
   "metadata": {},
   "outputs": [
    {
     "data": {
      "text/plain": [
       "array([[-0.55218151, -2.10196823, -4.1621793 , ..., -0.54232152,\n",
       "         0.68884007, -6.23007879],\n",
       "       [-3.61858315, -3.35570875, -3.32063973, ..., -4.30969079,\n",
       "        -4.61240451, -7.62401922],\n",
       "       [-0.4020806 ,  0.02227604,  0.54780914, ..., -0.41399436,\n",
       "        -0.74389543, -1.16952659]])"
      ]
     },
     "execution_count": 11,
     "metadata": {},
     "output_type": "execute_result"
    }
   ],
   "source": [
    "R = np.linalg.cholesky(Cd)  # Decomposicao de Cholesky da matriz Cd\n",
    "\n",
    "Xc = np.dot(R.T, Xu)  # Gera dados com atributos correlacionados com a matriz COV desejada\n",
    "Xc"
   ]
  }
 ],
 "metadata": {
  "kernelspec": {
   "display_name": "Python 3",
   "language": "python",
   "name": "python3"
  },
  "language_info": {
   "codemirror_mode": {
    "name": "ipython",
    "version": 3
   },
   "file_extension": ".py",
   "mimetype": "text/x-python",
   "name": "python",
   "nbconvert_exporter": "python",
   "pygments_lexer": "ipython3",
   "version": "3.8.2"
  }
 },
 "nbformat": 4,
 "nbformat_minor": 5
}
