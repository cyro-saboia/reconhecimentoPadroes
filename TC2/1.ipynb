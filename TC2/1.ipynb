{
 "cells": [
  {
   "cell_type": "code",
   "execution_count": 1,
   "id": "d0c153cb-9c48-4e3a-a32e-40d5ec15c3c5",
   "metadata": {},
   "outputs": [],
   "source": [
    "import numpy as np\n",
    "import matplotlib.pyplot as plt"
   ]
  },
  {
   "cell_type": "markdown",
   "id": "d608743c-655b-443c-972f-a966ca7292dd",
   "metadata": {},
   "source": [
    "# Parte 1"
   ]
  },
  {
   "cell_type": "markdown",
   "id": "a4a630a4-4ae0-49c5-ae48-d36b00c3c2d5",
   "metadata": {},
   "source": [
    "## Geração de dados artificiais com as características estatísticas desejadas de covariância."
   ]
  },
  {
   "cell_type": "code",
   "execution_count": 2,
   "id": "da381b4e-1b57-461b-8739-ef619c6d56d6",
   "metadata": {},
   "outputs": [
    {
     "name": "stdout",
     "output_type": "stream",
     "text": [
      "(3, 5000)\n",
      "(3, 3)\n"
     ]
    },
    {
     "data": {
      "text/plain": [
       "array([[ 1. ,  1.8, -0.9],\n",
       "       [ 1.8,  4. ,  0.6],\n",
       "       [-0.9,  0.6,  9. ]])"
      ]
     },
     "execution_count": 2,
     "metadata": {},
     "output_type": "execute_result"
    }
   ],
   "source": [
    "# Gera dados gaussianos com atributos não-correlacionados\n",
    "m1 = 5  # Média teórica do atributo 1\n",
    "sig1 = 1  # Desvio-padrao teorico do atributo 1\n",
    "\n",
    "m2 = -5  # Média teórica do atributo 2\n",
    "sig2 = sig1  # Desvio-padrao teorico do atributo 2\n",
    "\n",
    "m3 = 0  # Média teórica do atributo 3\n",
    "sig3 = sig1  # Desvio-padrao teorico do atributo 3\n",
    "\n",
    "N = 5000  # Quantidade de observacoes geradas de cada atributo\n",
    "X1 = np.random.normal(m1, sig1, N)\n",
    "X2 = np.random.normal(m2, sig2, N)\n",
    "X3 = np.random.normal(m3, sig3, N)\n",
    "\n",
    "Xu = np.vstack((X1, X2, X3))  # Agrupa dados dos atributos em uma unica matriz\n",
    "\n",
    "# Matriz desejada para os dados\n",
    "Cd = np.array([[1, 1.8, -0.9], [1.8, 4, 0.6], [-0.9, 0.6, 9]])\n",
    "\n",
    "print(Xu.shape)\n",
    "print(Cd.shape)\n",
    "Cd"
   ]
  },
  {
   "cell_type": "markdown",
   "id": "e565041d-c55b-45b4-b12d-97cff22c745b",
   "metadata": {},
   "source": [
    "## Método de Choleski para decompor a matriz de covariância desejada e correlacionar os 3 atributos gaussianos inicialmente não correlacionados"
   ]
  },
  {
   "cell_type": "code",
   "execution_count": 40,
   "id": "46134c11-fea5-4182-9af3-b7562834b2ef",
   "metadata": {},
   "outputs": [
    {
     "name": "stdout",
     "output_type": "stream",
     "text": [
      "(3, 5000)\n"
     ]
    }
   ],
   "source": [
    "R = np.linalg.cholesky(Cd)  # Decomposicao de Cholesky da matriz Cd\n",
    "\n",
    "Xc = np.dot(R.T, Xu)  # Gera dados com atributos correlacionados com a matriz COV desejada\n",
    "print(Xc.shape)"
   ]
  },
  {
   "cell_type": "markdown",
   "id": "318cdf82-3fed-4f66-9fa5-bc6069cc846b",
   "metadata": {},
   "source": [
    "# Parte 2"
   ]
  },
  {
   "cell_type": "markdown",
   "id": "9a2378e7-0bff-414a-a897-0043161329c9",
   "metadata": {},
   "source": [
    "## (i) Estimar a matriz de covariância Cx associada aos dados sintéticos originais na matrix Xc"
   ]
  },
  {
   "cell_type": "code",
   "execution_count": 4,
   "id": "b945ccb7-8924-4758-b5f8-3bc55090b438",
   "metadata": {},
   "outputs": [
    {
     "data": {
      "text/plain": [
       "array([[ 4.91582952, -0.84298567, -1.19891964],\n",
       "       [-0.84298567,  7.47004596,  3.4393411 ],\n",
       "       [-1.19891964,  3.4393411 ,  1.7555043 ]])"
      ]
     },
     "execution_count": 4,
     "metadata": {},
     "output_type": "execute_result"
    }
   ],
   "source": [
    "# Aplicacao de PCA aos dados correlacionados gerados no procedimento anterior.\n",
    "# Estimar a matriz de covariância Cx associada aos dados sintéticos originais na matrix Xc\n",
    "Cx = np.cov(Xc)  \n",
    "Cx"
   ]
  },
  {
   "cell_type": "markdown",
   "id": "acae18bb-bcc5-4d1f-8ce8-f545a34e0821",
   "metadata": {},
   "source": [
    "## (ii) Calcular os autovalores e a matriz de autovetores V"
   ]
  },
  {
   "cell_type": "code",
   "execution_count": 5,
   "id": "9673cd31-30dd-4d23-991f-abac4c4367cd",
   "metadata": {},
   "outputs": [
    {
     "name": "stdout",
     "output_type": "stream",
     "text": [
      "Autovalores:  [9.44609605 4.66619609 0.02908765]\n",
      "Matriz autovetor:  [[ 0.27353662 -0.94967641  0.15261862]\n",
      " [-0.8614439  -0.31246187 -0.40035234]\n",
      " [-0.42789267  0.02196135  0.90356271]]\n"
     ]
    }
   ],
   "source": [
    "# Calcular os autovalores e a matriz de autovetores V\n",
    "# L - vetor com os autovalores \n",
    "# V - matriz onde cada coluna é um autovetor\n",
    "L, V = np.linalg.eig(Cx)\n",
    "print('Autovalores: ', L)\n",
    "print('Matriz autovetor: ', V)"
   ]
  },
  {
   "cell_type": "markdown",
   "id": "8762e106-4694-462c-be1b-514ef23ff8d2",
   "metadata": {},
   "source": [
    "## (iii) Comparar com os autovalores e autovetores calculados pelo código Matlab/Octave fornecido."
   ]
  },
  {
   "cell_type": "markdown",
   "id": "2339e29d-d1e5-4f32-a42d-1b07e8deb9b6",
   "metadata": {},
   "source": [
    "## (iv) Verificar se a matriz de autovetores é ortonormal de duas maneiras"
   ]
  },
  {
   "cell_type": "markdown",
   "id": "f1dfe4a2-6222-41f6-a308-f152c6284544",
   "metadata": {},
   "source": [
    "### A primeira é multiplicando ela por sua transposta"
   ]
  },
  {
   "cell_type": "code",
   "execution_count": 6,
   "id": "15cbe676-4112-402b-a041-f4ed0c645a6c",
   "metadata": {},
   "outputs": [
    {
     "name": "stdout",
     "output_type": "stream",
     "text": [
      "[[ 1.00000000e+00 -5.85525887e-17 -9.00978657e-17]\n",
      " [-5.85525887e-17  1.00000000e+00 -9.37015100e-17]\n",
      " [-9.00978657e-17 -9.37015100e-17  1.00000000e+00]]\n",
      "\n",
      "Verificação 1 - A matriz de autovetores é ortogonal: True\n"
     ]
    }
   ],
   "source": [
    "result = np.dot(V, V.T)\n",
    "print(result)\n",
    "\n",
    "is_orthogonal_1 = np.allclose(result, np.identity(V.shape[0]))\n",
    "\n",
    "print('\\nVerificação 1 - A matriz de autovetores é ortogonal:', is_orthogonal_1)"
   ]
  },
  {
   "cell_type": "raw",
   "id": "42ff19ae-8227-48f6-98fb-c58960ddd106",
   "metadata": {},
   "source": [
    "Considerando o cálculo da matriz de autovetores pela sua transposta, obtivemos como resultado uma matriz que possui 1 em sua diagonal, mostrando que as colunas da matriz de autovetores correpondem a autovalores distintos. Portanto a matriz é considerada ortogonal."
   ]
  },
  {
   "cell_type": "markdown",
   "id": "0d89fe01-1f70-4646-a227-ce21030fbd27",
   "metadata": {},
   "source": [
    "### A outra é invertendo-a usando uma função de cálculo de matriz inversa (no Python) e comparando com a transposta de V"
   ]
  },
  {
   "cell_type": "code",
   "execution_count": 7,
   "id": "3b495ab0-6565-4bd0-a70d-53606070f0df",
   "metadata": {},
   "outputs": [
    {
     "name": "stdout",
     "output_type": "stream",
     "text": [
      "\n",
      "Inversa de V:\n",
      "[[ 0.27353662 -0.8614439  -0.42789267]\n",
      " [-0.94967641 -0.31246187  0.02196135]\n",
      " [ 0.15261862 -0.40035234  0.90356271]]\n",
      "\n",
      "Transposta de V:\n",
      "[[ 0.27353662 -0.8614439  -0.42789267]\n",
      " [-0.94967641 -0.31246187  0.02196135]\n",
      " [ 0.15261862 -0.40035234  0.90356271]]\n",
      "\n",
      "Verificação 2 - A matriz de autovetores é ortogonal: True\n"
     ]
    }
   ],
   "source": [
    "V_inv = np.linalg.inv(V)\n",
    "\n",
    "print('\\nInversa de V:')\n",
    "print(V_inv)\n",
    "print('\\nTransposta de V:')\n",
    "print(V.T)\n",
    "\n",
    "is_orthogonal_2 = np.allclose(V_inv, V.T)\n",
    "\n",
    "print('\\nVerificação 2 - A matriz de autovetores é ortogonal:', is_orthogonal_2)"
   ]
  },
  {
   "cell_type": "raw",
   "id": "cb2d6cb8-5664-4184-bb4a-cfb4ca71fdd1",
   "metadata": {},
   "source": [
    "Verificamos que a matriz inversa dos autovetores é igual a matriz transposta dos autovetores, confirmando sua ortogonalidade."
   ]
  },
  {
   "cell_type": "markdown",
   "id": "d6866198-0ea7-462b-b63e-fc59eaa8e51e",
   "metadata": {},
   "source": [
    "## (v) Calcular a variância explicada por cada autovalor (VEi) e fazer o gráfico da variância explicada acumulativa (VEq)"
   ]
  },
  {
   "cell_type": "code",
   "execution_count": 9,
   "id": "7ff6cd29-d560-4162-8628-62cbb3a5b766",
   "metadata": {},
   "outputs": [
    {
     "name": "stdout",
     "output_type": "stream",
     "text": [
      "\n",
      "Variancia explicada pelo i-esimo autovalor:\n",
      "[66.79755578 32.9967525   0.20569172]\n",
      "\n",
      "Variancia explicada pelos q primeiros autovalores:\n",
      "[ 66.79755578  99.79430828 100.        ]\n"
     ]
    },
    {
     "data": {
      "image/png": "[encoded data removed]",
      "text/plain": [
       "<Figure size 432x288 with 1 Axes>"
      ]
     },
     "metadata": {
      "needs_background": "light"
     },
     "output_type": "display_data"
    }
   ],
   "source": [
    "sorted_indices = np.argsort(L)[::-1]\n",
    "L_sorted = L[sorted_indices]\n",
    "V = V[:, sorted_indices]\n",
    "VEi = 100 * L_sorted / np.sum(L_sorted)\n",
    "VEq = 100 * np.cumsum(L_sorted) / np.sum(L_sorted)\n",
    "\n",
    "print('\\nVariancia explicada pelo i-esimo autovalor:')\n",
    "print(VEi)\n",
    "print('\\nVariancia explicada pelos q primeiros autovalores:')\n",
    "print(VEq)\n",
    "\n",
    "plt.figure()\n",
    "plt.plot(VEq, 'r-', linewidth=2)\n",
    "plt.xlabel('Numero de autovalores principais (q)')\n",
    "plt.ylabel('Variancia Explicada')\n",
    "plt.show()"
   ]
  },
  {
   "cell_type": "markdown",
   "id": "54624ff2-2e90-4aa5-afb4-2a3c8a3eb996",
   "metadata": {},
   "source": [
    "# Parte 3"
   ]
  },
  {
   "cell_type": "markdown",
   "id": "090b3dba-920a-4f5b-a6ac-711b276c8e75",
   "metadata": {},
   "source": [
    "## Comparar os resultados do PCA implementado passo-a-passo na Parte 2 com o método usando a decomposição em valores singulares (SVD, na sigla em Inglês)"
   ]
  },
  {
   "cell_type": "code",
   "execution_count": 10,
   "id": "a44afa75-a767-4462-8a7c-0f3a60256790",
   "metadata": {},
   "outputs": [
    {
     "name": "stdout",
     "output_type": "stream",
     "text": [
      "\n",
      "PCA tradicional:\n",
      "[[ 0.27353662 -0.94967641  0.15261862]\n",
      " [-0.8614439  -0.31246187 -0.40035234]\n",
      " [-0.42789267  0.02196135  0.90356271]]\n",
      "\n",
      "PCA SVD:\n",
      "[[-0.27353662  0.8614439   0.42789267]\n",
      " [-0.94967641 -0.31246187  0.02196135]\n",
      " [ 0.15261862 -0.40035234  0.90356271]]\n",
      "\n",
      "Os autovetores são proporcionais: False\n",
      "Os autovalores são aproximadamente iguais: True\n"
     ]
    }
   ],
   "source": [
    "U3, L3, V3 = np.linalg.svd(Cx)  # PCA a partir da SVD\n",
    "Q = V3\n",
    "\n",
    "print('\\nPCA tradicional:')\n",
    "print(V)\n",
    "print('\\nPCA SVD:')\n",
    "print(V3)\n",
    "\n",
    "# Comparação dos autovetores\n",
    "are_proportional = np.allclose(V, V3)\n",
    "print(\"\\nOs autovetores são proporcionais:\", are_proportional)\n",
    "\n",
    "sorted_indices_L3 = np.argsort(L3)[::-1]\n",
    "L3_sorted = L3[sorted_indices_L3]\n",
    "\n",
    "# Comparação dos autovalores\n",
    "are_eigenvalues_close = np.allclose(L_sorted, L3_sorted)\n",
    "print(\"Os autovalores são aproximadamente iguais:\", are_eigenvalues_close)\n"
   ]
  },
  {
   "cell_type": "raw",
   "id": "9dd6d6d2-1875-4d8f-b71d-97e3511922e1",
   "metadata": {},
   "source": [
    "Os autovetores são proporcionais: False\n",
    "Indica que os autovetores obtidos pelos dois métodos não são diretamente proporcionais entre si.\n",
    "Os autovalores são aproximadamente iguais: True\n",
    "Indica que ambos os métodos estão capturando quantidade semelhante de variância de dados.\n",
    "\n",
    "Comparando ambos os métodos, observamos que embora existam diferenças nos autovetores, a consistência nos autovalores sugere que ambos os métodos estão fornecendo informações úteis sobre a estrutura dos dados."
   ]
  },
  {
   "cell_type": "markdown",
   "id": "0cd2ec8e-01bd-4a15-a598-68413136d0d0",
   "metadata": {},
   "source": [
    "# Parte 4"
   ]
  },
  {
   "cell_type": "markdown",
   "id": "24e07755-25c6-4a21-ac5e-36f0f8914998",
   "metadata": {},
   "source": [
    "## Gerar os dados transformados; ou seja, gerar a matriz de dados Z."
   ]
  },
  {
   "cell_type": "code",
   "execution_count": 12,
   "id": "ddb81e0b-abae-4884-9410-c37ad8161024",
   "metadata": {},
   "outputs": [],
   "source": [
    "Z = np.dot(Q, Xc)  # Gera dados via PCA (descorrelaciona matriz dos dados)"
   ]
  },
  {
   "cell_type": "markdown",
   "id": "ba2d2b25-15e5-4988-9aab-dff07346e3b0",
   "metadata": {},
   "source": [
    "## Verificar as propriedades esperadas para os dados transformados Z. Primeiro, numericamente, ao estimar a matriz de covariância Cz. Esta matriz é diagonal?"
   ]
  },
  {
   "cell_type": "code",
   "execution_count": 21,
   "id": "2e7e2e4a-126c-4bee-9cc2-a1c2fe12b954",
   "metadata": {},
   "outputs": [
    {
     "name": "stdout",
     "output_type": "stream",
     "text": [
      "[[ 9.44609605e+00  3.18386823e-16  1.07035805e-15]\n",
      " [ 3.18386823e-16  4.66619609e+00 -3.19719357e-16]\n",
      " [ 1.07035805e-15 -3.19719357e-16  2.90876475e-02]]\n",
      "A matriz é diagonal: True\n"
     ]
    }
   ],
   "source": [
    "Cz = np.cov(Z)  # Matriz de covariancia empirica dos dados transformados via PCA\n",
    "print(Cz)\n",
    "\n",
    "# Verificação se a matriz é diagonal\n",
    "is_diagonal = np.allclose(Cz, np.diag(np.diagonal(Cz)))\n",
    "\n",
    "print(\"A matriz é diagonal:\", is_diagonal)"
   ]
  },
  {
   "cell_type": "markdown",
   "id": "59405c2c-56b6-4738-b6e0-72c1c2cd37f1",
   "metadata": {},
   "source": [
    "O código acima mostra que a matriz é diagonal devido aos elementos fora da diagonal principal serem muito próximos de zero e os elementos da diagonal serem diferentes de zero."
   ]
  },
  {
   "cell_type": "markdown",
   "id": "af840508-53b2-4237-8acb-a3132ced27b7",
   "metadata": {},
   "source": [
    "## Que elementos estão na diagonal principal de Cz?"
   ]
  },
  {
   "cell_type": "code",
   "execution_count": 22,
   "id": "c00b97fa-61a0-47d5-a765-29625e0d84d3",
   "metadata": {},
   "outputs": [
    {
     "name": "stdout",
     "output_type": "stream",
     "text": [
      "Elementos da diagonal principal de Cz: [9.44609605 4.66619609 0.02908765]\n"
     ]
    }
   ],
   "source": [
    "# Obter elementos da diagonal principal\n",
    "diagonal_elements = np.diagonal(Cz)\n",
    "\n",
    "# Imprimir os elementos da diagonal principal\n",
    "print(\"Elementos da diagonal principal de Cz:\", diagonal_elements)"
   ]
  },
  {
   "cell_type": "markdown",
   "id": "2c6e3b63-9faa-4909-8da4-919df913d414",
   "metadata": {},
   "source": [
    "## Em seguida, comparar o gráfico de dispersão (scatterplot) dos atributos X1 e X2 dos dados originais (correlacionados) e com o gráfico de Z1 e Z2 dos dados transformados (não correlacionados)"
   ]
  },
  {
   "cell_type": "code",
   "execution_count": 13,
   "id": "20376b98-b841-4741-8618-b3a86dba1fd0",
   "metadata": {},
   "outputs": [
    {
     "data": {
      "text/plain": [
       "Text(0.5, 1.0, 'Dados Originais Nao-Correlacionados')"
      ]
     },
     "execution_count": 13,
     "metadata": {},
     "output_type": "execute_result"
    },
    {
     "data": {
      "image/png": "[encoded data removed]",
      "text/plain": [
       "<Figure size 432x288 with 2 Axes>"
      ]
     },
     "metadata": {
      "needs_background": "light"
     },
     "output_type": "display_data"
    }
   ],
   "source": [
    "plt.figure()\n",
    "plt.subplot(1, 2, 1)\n",
    "plt.plot(Xc[0, 0:5000], Xc[1, 0:5000], 'ro', linewidth=2)\n",
    "plt.xlabel('Atributo X1')\n",
    "plt.ylabel('Atributo X2')\n",
    "plt.title('Dados Originais Correlacionados')\n",
    "\n",
    "plt.subplot(1, 2, 2)\n",
    "plt.plot(Z[0, 0:5000], Z[1, 0:5000], 'bo', linewidth=2)\n",
    "plt.xlabel('Atributo Z1')\n",
    "plt.ylabel('Atributo Z2')\n",
    "plt.title('Dados Originais Nao-Correlacionados')"
   ]
  },
  {
   "cell_type": "markdown",
   "id": "feda59bf-e16f-441b-bc87-9ff4c7798b33",
   "metadata": {},
   "source": [
    "# Parte 5"
   ]
  },
  {
   "cell_type": "markdown",
   "id": "a5f5a06f-9d9d-4e16-9b57-e99cd75ff35a",
   "metadata": {},
   "source": [
    "## Projete os dados Xc em duas dimensões escolhendo apenas duas componentes (i.e.colunas da matriz de autovetores V)."
   ]
  },
  {
   "cell_type": "code",
   "execution_count": 60,
   "id": "69b52d3c-39a2-4b6e-80bd-1223821f47a9",
   "metadata": {},
   "outputs": [
    {
     "name": "stdout",
     "output_type": "stream",
     "text": [
      "Cx.shape (3, 3)\n",
      "V.shape (3, 3)\n",
      "V_2d.shape (2, 3)\n",
      "Xc.shape (3, 5000)\n",
      "\n",
      "Dados Projetados em Duas Dimensões:\n",
      "DoisD.shape (2, 5000)\n"
     ]
    }
   ],
   "source": [
    "print('Cx.shape', Cx.shape)\n",
    "print('V.shape', V.shape)\n",
    "V_2d = V[:, :2].T\n",
    "print('V_2d.shape', V_2d.shape)\n",
    "print('Xc.shape', Xc.shape)\n",
    "\n",
    "# Dados em duas dimensões\n",
    "DoisD = V_2d @ Xc\n",
    "\n",
    "# Imprimir os dados projetados\n",
    "print(\"\\nDados Projetados em Duas Dimensões:\")\n",
    "print('DoisD.shape', DoisD.shape)"
   ]
  },
  {
   "cell_type": "markdown",
   "id": "f08eb234-2a73-4a46-82bd-0146fab3c119",
   "metadata": {},
   "source": [
    "## Em seguida, use a transposta da matriz Q para gerar a matriz de dados Xr, que é a matriz de reconstrução dos dados originais"
   ]
  },
  {
   "cell_type": "code",
   "execution_count": 53,
   "id": "b6e7be93-507f-439e-8659-319a7ff2856b",
   "metadata": {},
   "outputs": [
    {
     "name": "stdout",
     "output_type": "stream",
     "text": [
      "(3, 5000)\n"
     ]
    },
    {
     "data": {
      "text/plain": [
       "array([[-4.49341131, -8.42363025, -4.46361307, ..., -1.90672186,\n",
       "        -6.16624339, -4.56732525],\n",
       "       [-5.48190847, -5.27516371, -0.41665286, ..., -3.59350985,\n",
       "        -2.92162059, -4.9290213 ],\n",
       "       [-0.69686547,  0.30073619,  1.71581374, ..., -0.12110683,\n",
       "         0.76727538, -0.20978045]])"
      ]
     },
     "execution_count": 53,
     "metadata": {},
     "output_type": "execute_result"
    }
   ],
   "source": [
    "Xr = np.dot(Q.T, Z)\n",
    "print(Xr.shape)\n",
    "Xr"
   ]
  },
  {
   "cell_type": "markdown",
   "id": "9aa84fce-35b2-4f36-91ea-83e188e3d592",
   "metadata": {},
   "source": [
    "## (i) Mostre as 4 primeiras colunas de Xr e compare com as 4 primeiras colunas de Xc. Os valores são próximos?"
   ]
  },
  {
   "cell_type": "code",
   "execution_count": 61,
   "id": "6dec7c46-712c-4969-ab8a-9b599156cd15",
   "metadata": {},
   "outputs": [
    {
     "name": "stdout",
     "output_type": "stream",
     "text": [
      "[[-4.49341131 -8.42363025 -4.46361307 -0.93510798]\n",
      " [-5.48190847 -5.27516371 -0.41665286 -2.41438001]\n",
      " [-0.69686547  0.30073619  1.71581374  0.646335  ]]\n",
      "\n",
      "\n",
      "[[-4.49341131 -8.42363025 -4.46361307 -0.93510798]\n",
      " [-5.48190847 -5.27516371 -0.41665286 -2.41438001]\n",
      " [-0.69686547  0.30073619  1.71581374  0.646335  ]]\n"
     ]
    }
   ],
   "source": [
    "print(Xr[:, :4])\n",
    "print('\\n')\n",
    "print(Xc[:, :4])"
   ]
  },
  {
   "cell_type": "markdown",
   "id": "04cce078-82e6-4358-9889-ac5981fbbdea",
   "metadata": {},
   "source": [
    "## (ii) Calcule a norma quadrática de Frobenius da matriz de erro E= Xc – Xr."
   ]
  },
  {
   "cell_type": "code",
   "execution_count": 67,
   "id": "3515ae72-6ba9-4779-ae2a-834477ca7514",
   "metadata": {},
   "outputs": [
    {
     "name": "stdout",
     "output_type": "stream",
     "text": [
      "1.2454713980395403e-26\n"
     ]
    }
   ],
   "source": [
    "E = Xc - Xr  # Vetor erro de reconstrucao\n",
    "NormaE2 = np.linalg.norm(E, 'fro')**2  # Norma de Frobenius para calcular o erro.\n",
    "print(NormaE2)"
   ]
  },
  {
   "cell_type": "markdown",
   "id": "aeb81c87-4278-4f34-9ff9-eb1919820349",
   "metadata": {},
   "source": [
    "## (iii) Vetorize a matriz E e calcule a soma dos erros quadráticos. Os valores de (i) e (ii) devem ser iguais."
   ]
  },
  {
   "cell_type": "code",
   "execution_count": 70,
   "id": "ecdc0ac6-cace-4f47-8a81-426aba312cbd",
   "metadata": {},
   "outputs": [
    {
     "data": {
      "text/plain": [
       "1.2454713980395402e-26"
      ]
     },
     "execution_count": 70,
     "metadata": {},
     "output_type": "execute_result"
    }
   ],
   "source": [
    "E = E.flatten()  # Vetoriza matriz de erro\n",
    "SSE = np.sum(E**2)  # Soma dos erros quadraticos de reconstrucao\n",
    "SSE"
   ]
  }
 ],
 "metadata": {
  "kernelspec": {
   "display_name": "Python 3",
   "language": "python",
   "name": "python3"
  },
  "language_info": {
   "codemirror_mode": {
    "name": "ipython",
    "version": 3
   },
   "file_extension": ".py",
   "mimetype": "text/x-python",
   "name": "python",
   "nbconvert_exporter": "python",
   "pygments_lexer": "ipython3",
   "version": "3.8.2"
  }
 },
 "nbformat": 4,
 "nbformat_minor": 5
}
