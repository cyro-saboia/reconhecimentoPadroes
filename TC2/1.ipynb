{
 "cells": [
  {
   "cell_type": "code",
   "execution_count": 1,
   "id": "d0c153cb-9c48-4e3a-a32e-40d5ec15c3c5",
   "metadata": {},
   "outputs": [],
   "source": [
    "import numpy as np\n",
    "import matplotlib.pyplot as plt"
   ]
  },
  {
   "cell_type": "markdown",
   "id": "d608743c-655b-443c-972f-a966ca7292dd",
   "metadata": {},
   "source": [
    "# Parte 1"
   ]
  },
  {
   "cell_type": "markdown",
   "id": "a4a630a4-4ae0-49c5-ae48-d36b00c3c2d5",
   "metadata": {},
   "source": [
    "## Geração de dados artificiais com as características estatísticas desejadas de covariância."
   ]
  },
  {
   "cell_type": "code",
   "execution_count": 2,
   "id": "da381b4e-1b57-461b-8739-ef619c6d56d6",
   "metadata": {},
   "outputs": [
    {
     "name": "stdout",
     "output_type": "stream",
     "text": [
      "(3, 5000)\n",
      "(3, 3)\n"
     ]
    },
    {
     "data": {
      "text/plain": [
       "array([[ 1. ,  1.8, -0.9],\n",
       "       [ 1.8,  4. ,  0.6],\n",
       "       [-0.9,  0.6,  9. ]])"
      ]
     },
     "execution_count": 2,
     "metadata": {},
     "output_type": "execute_result"
    }
   ],
   "source": [
    "# Gera dados gaussianos com atributos não-correlacionados\n",
    "m1 = 5  # Média teórica do atributo 1\n",
    "sig1 = 1  # Desvio-padrao teorico do atributo 1\n",
    "\n",
    "m2 = -5  # Média teórica do atributo 2\n",
    "sig2 = sig1  # Desvio-padrao teorico do atributo 2\n",
    "\n",
    "m3 = 0  # Média teórica do atributo 3\n",
    "sig3 = sig1  # Desvio-padrao teorico do atributo 3\n",
    "\n",
    "N = 5000  # Quantidade de observacoes geradas de cada atributo\n",
    "X1 = np.random.normal(m1, sig1, N)\n",
    "X2 = np.random.normal(m2, sig2, N)\n",
    "X3 = np.random.normal(m3, sig3, N)\n",
    "\n",
    "Xu = np.vstack((X1, X2, X3))  # Agrupa dados dos atributos em uma unica matriz\n",
    "\n",
    "# Matriz desejada para os dados\n",
    "Cd = np.array([[1, 1.8, -0.9], [1.8, 4, 0.6], [-0.9, 0.6, 9]])\n",
    "\n",
    "print(Xu.shape)\n",
    "print(Cd.shape)\n",
    "Cd"
   ]
  },
  {
   "cell_type": "markdown",
   "id": "e565041d-c55b-45b4-b12d-97cff22c745b",
   "metadata": {},
   "source": [
    "## Método de Choleski para decompor a matriz de covariância desejada e correlacionar os 3 atributos gaussianos inicialmente não correlacionados"
   ]
  },
  {
   "cell_type": "code",
   "execution_count": 3,
   "id": "46134c11-fea5-4182-9af3-b7562834b2ef",
   "metadata": {},
   "outputs": [
    {
     "data": {
      "text/plain": [
       "array([[-2.63217031,  1.17714759, -1.12486186, ..., -5.89054902,\n",
       "        -7.40990569,  0.75283929],\n",
       "       [-6.81713827, -6.15332793, -3.81298822, ..., -3.13046173,\n",
       "        -6.70619387, -4.509726  ],\n",
       "       [-1.31418554, -1.76407573, -0.13671372, ...,  0.74654681,\n",
       "        -0.68214916, -1.05062419]])"
      ]
     },
     "execution_count": 3,
     "metadata": {},
     "output_type": "execute_result"
    }
   ],
   "source": [
    "R = np.linalg.cholesky(Cd)  # Decomposicao de Cholesky da matriz Cd\n",
    "\n",
    "Xc = np.dot(R.T, Xu)  # Gera dados com atributos correlacionados com a matriz COV desejada\n",
    "Xc"
   ]
  },
  {
   "cell_type": "markdown",
   "id": "318cdf82-3fed-4f66-9fa5-bc6069cc846b",
   "metadata": {},
   "source": [
    "# Parte 2"
   ]
  },
  {
   "cell_type": "code",
   "execution_count": 5,
   "id": "b945ccb7-8924-4758-b5f8-3bc55090b438",
   "metadata": {},
   "outputs": [
    {
     "data": {
      "text/plain": [
       "array([[ 5.10387395, -0.67134364, -1.17306652],\n",
       "       [-0.67134364,  7.07964066,  3.23260854],\n",
       "       [-1.17306652,  3.23260854,  1.6611107 ]])"
      ]
     },
     "execution_count": 5,
     "metadata": {},
     "output_type": "execute_result"
    }
   ],
   "source": [
    "# Aplicacao de PCA aos dados correlacionados gerados no procedimento anterior.\n",
    "# Estimar a matriz de covariância Cx associada aos dados sintéticos originais na matrix Xc\n",
    "Cx = np.cov(Xc)  \n",
    "Cx"
   ]
  },
  {
   "cell_type": "code",
   "execution_count": 12,
   "id": "9673cd31-30dd-4d23-991f-abac4c4367cd",
   "metadata": {},
   "outputs": [
    {
     "name": "stdout",
     "output_type": "stream",
     "text": [
      "Autovalores:  [8.91422773 4.90090755 0.02949002]\n",
      "Matriz autovetor:  [[ 0.28304754 -0.94633255  0.15600893]\n",
      " [-0.85818365 -0.32252178 -0.39937516]\n",
      " [-0.428258    0.02084216  0.90341612]]\n"
     ]
    }
   ],
   "source": [
    "# Calcular os autovalores e a matriz de autovetores V\n",
    "# L - vetor com os autovalores \n",
    "# V - matriz onde cada coluna é um autovetor\n",
    "L, V = np.linalg.eig(Cx)\n",
    "print('Autovalores: ', L)\n",
    "print('Matriz autovetor: ', V)"
   ]
  }
 ],
 "metadata": {
  "kernelspec": {
   "display_name": "Python 3",
   "language": "python",
   "name": "python3"
  },
  "language_info": {
   "codemirror_mode": {
    "name": "ipython",
    "version": 3
   },
   "file_extension": ".py",
   "mimetype": "text/x-python",
   "name": "python",
   "nbconvert_exporter": "python",
   "pygments_lexer": "ipython3",
   "version": "3.8.2"
  }
 },
 "nbformat": 4,
 "nbformat_minor": 5
}
