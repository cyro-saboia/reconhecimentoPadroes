{
 "cells": [
  {
   "cell_type": "code",
   "execution_count": 1,
   "id": "b810659a-762d-4982-aff6-4b693a6f4c1b",
   "metadata": {},
   "outputs": [],
   "source": [
    "import pandas as pd\n",
    "import numpy as np\n",
    "import time"
   ]
  },
  {
   "cell_type": "code",
   "execution_count": 2,
   "id": "0f99631b-c5da-4e94-8ac2-c7df8235d598",
   "metadata": {},
   "outputs": [
    {
     "name": "stdout",
     "output_type": "stream",
     "text": [
      "(351, 34)\n"
     ]
    }
   ],
   "source": [
    "file = 'ionosphere.data'\n",
    "data = pd.read_csv(file, header=None)\n",
    "# removendo a ultima coluna dos dados\n",
    "# The 35th attribute is either \"good\" or \"bad\" according to the definition summarized above.  This is a binary classification task.\n",
    "data = data.iloc[:, :-1]\n",
    "print(data.shape)"
   ]
  },
  {
   "cell_type": "markdown",
   "id": "482fb43b-2bf3-40bf-b0d3-af9a90f068e7",
   "metadata": {},
   "source": [
    "# Matriz de convariânca implementada"
   ]
  },
  {
   "cell_type": "code",
   "execution_count": 6,
   "id": "f0a87153-fbe0-4b5c-bb6b-b64e05f23d43",
   "metadata": {},
   "outputs": [
    {
     "name": "stdout",
     "output_type": "stream",
     "text": [
      "Tempo gasto: 0.0029296875 segundos\n"
     ]
    }
   ],
   "source": [
    "start = time.time()\n",
    "mean_vector = np.mean(data, axis=0)\n",
    "#print(mean_vector.shape)\n",
    "centered_data = data - mean_vector\n",
    "#print(centered_data.shape)\n",
    "N = data.shape[0]\n",
    "#print(N)\n",
    "Cmy = (centered_data.T @ centered_data) / N\n",
    "#print(Cmy.shape)\n",
    "stop = time.time()\n",
    "\n",
    "tempo_gasto = stop - start\n",
    "print(f\"Tempo gasto: {tempo_gasto} segundos\")"
   ]
  },
  {
   "cell_type": "markdown",
   "id": "24ac495f-1226-4942-97be-af49750db82e",
   "metadata": {},
   "source": [
    "# Matriz de Convariância nativa"
   ]
  },
  {
   "cell_type": "code",
   "execution_count": 7,
   "id": "5a898aaa-c0c5-4b16-a1c5-ac70d537849f",
   "metadata": {},
   "outputs": [
    {
     "name": "stdout",
     "output_type": "stream",
     "text": [
      "Tempo gasto: 0.0009810924530029297 segundos\n"
     ]
    }
   ],
   "source": [
    "start2 = time.time()\n",
    "Cref = np.cov(data, rowvar=False)\n",
    "#print(Cref.shape)\n",
    "stop2 = time.time()\n",
    "tempo_gasto2 = stop2 - start2\n",
    "print(f\"Tempo gasto: {tempo_gasto2} segundos\")"
   ]
  },
  {
   "cell_type": "markdown",
   "id": "db263576-3f06-40d0-8c49-24f3443c1549",
   "metadata": {},
   "source": [
    "O método nativo da linguagem se mostrou aproximadamente duas vezes mais rápido que o método implementado."
   ]
  }
 ],
 "metadata": {
  "kernelspec": {
   "display_name": "Python 3",
   "language": "python",
   "name": "python3"
  },
  "language_info": {
   "codemirror_mode": {
    "name": "ipython",
    "version": 3
   },
   "file_extension": ".py",
   "mimetype": "text/x-python",
   "name": "python",
   "nbconvert_exporter": "python",
   "pygments_lexer": "ipython3",
   "version": "3.8.2"
  }
 },
 "nbformat": 4,
 "nbformat_minor": 5
}
