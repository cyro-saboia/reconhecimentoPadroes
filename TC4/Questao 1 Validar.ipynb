{
 "cells": [
  {
   "cell_type": "code",
   "execution_count": 1,
   "id": "d933913c-b0a2-4e3d-8e64-659a0dd6f887",
   "metadata": {},
   "outputs": [],
   "source": [
    "import pandas as pd\n",
    "import numpy as np\n",
    "import matplotlib.pyplot as plt\n",
    "from sklearn.cluster import KMeans\n",
    "from sklearn.preprocessing import StandardScaler"
   ]
  },
  {
   "cell_type": "code",
   "execution_count": 2,
   "id": "70565ca1-db26-4d92-b1cf-d63c22ac3f85",
   "metadata": {},
   "outputs": [
    {
     "data": {
      "text/html": [
       "<div>\n",
       "<style scoped>\n",
       "    .dataframe tbody tr th:only-of-type {\n",
       "        vertical-align: middle;\n",
       "    }\n",
       "\n",
       "    .dataframe tbody tr th {\n",
       "        vertical-align: top;\n",
       "    }\n",
       "\n",
       "    .dataframe thead th {\n",
       "        text-align: right;\n",
       "    }\n",
       "</style>\n",
       "<table border=\"1\" class=\"dataframe\">\n",
       "  <thead>\n",
       "    <tr style=\"text-align: right;\">\n",
       "      <th></th>\n",
       "      <th>0</th>\n",
       "      <th>1</th>\n",
       "      <th>2</th>\n",
       "      <th>3</th>\n",
       "      <th>4</th>\n",
       "      <th>5</th>\n",
       "    </tr>\n",
       "  </thead>\n",
       "  <tbody>\n",
       "    <tr>\n",
       "      <th>0</th>\n",
       "      <td>63.03</td>\n",
       "      <td>22.55</td>\n",
       "      <td>39.61</td>\n",
       "      <td>40.48</td>\n",
       "      <td>98.67</td>\n",
       "      <td>-0.25</td>\n",
       "    </tr>\n",
       "    <tr>\n",
       "      <th>1</th>\n",
       "      <td>39.06</td>\n",
       "      <td>10.06</td>\n",
       "      <td>25.02</td>\n",
       "      <td>29.00</td>\n",
       "      <td>114.41</td>\n",
       "      <td>4.56</td>\n",
       "    </tr>\n",
       "    <tr>\n",
       "      <th>2</th>\n",
       "      <td>68.83</td>\n",
       "      <td>22.22</td>\n",
       "      <td>50.09</td>\n",
       "      <td>46.61</td>\n",
       "      <td>105.99</td>\n",
       "      <td>-3.53</td>\n",
       "    </tr>\n",
       "    <tr>\n",
       "      <th>3</th>\n",
       "      <td>69.30</td>\n",
       "      <td>24.65</td>\n",
       "      <td>44.31</td>\n",
       "      <td>44.64</td>\n",
       "      <td>101.87</td>\n",
       "      <td>11.21</td>\n",
       "    </tr>\n",
       "    <tr>\n",
       "      <th>4</th>\n",
       "      <td>49.71</td>\n",
       "      <td>9.65</td>\n",
       "      <td>28.32</td>\n",
       "      <td>40.06</td>\n",
       "      <td>108.17</td>\n",
       "      <td>7.92</td>\n",
       "    </tr>\n",
       "  </tbody>\n",
       "</table>\n",
       "</div>"
      ],
      "text/plain": [
       "       0      1      2      3       4      5\n",
       "0  63.03  22.55  39.61  40.48   98.67  -0.25\n",
       "1  39.06  10.06  25.02  29.00  114.41   4.56\n",
       "2  68.83  22.22  50.09  46.61  105.99  -3.53\n",
       "3  69.30  24.65  44.31  44.64  101.87  11.21\n",
       "4  49.71   9.65  28.32  40.06  108.17   7.92"
      ]
     },
     "execution_count": 2,
     "metadata": {},
     "output_type": "execute_result"
    }
   ],
   "source": [
    "file = 'datasetTC4.dat'\n",
    "data = pd.read_csv(file, header=None, sep=' ')\n",
    "data = data.iloc[:, :-1]\n",
    "data.head()"
   ]
  },
  {
   "cell_type": "code",
   "execution_count": 3,
   "id": "c557b3bd-d538-4eb3-9b41-aefba8d4a840",
   "metadata": {},
   "outputs": [
    {
     "data": {
      "text/plain": [
       "array([[ 0.14722652,  0.50111133, -0.66512805, -0.18460234, -1.44783071,\n",
       "        -0.70794606],\n",
       "       [-1.24570706, -0.74889057, -1.45276272, -1.04124965, -0.26402779,\n",
       "        -0.57967342],\n",
       "       [ 0.48427345,  0.46808485, -0.0993699 ,  0.27282344, -0.89729467,\n",
       "        -0.79541679],\n",
       "       ...,\n",
       "       [ 0.05541029,  0.51512256, -0.31098936, -0.31369641,  0.58283504,\n",
       "        -0.77354911],\n",
       "       [-0.88599664, -0.88600047, -0.55877847, -0.47711606,  0.04734096,\n",
       "        -0.69567882],\n",
       "       [-1.54904929, -1.24829085, -0.82546218, -1.05841244,  0.45347411,\n",
       "        -0.70661266]])"
      ]
     },
     "execution_count": 3,
     "metadata": {},
     "output_type": "execute_result"
    }
   ],
   "source": [
    "# Passo 1 - Normalizar os dados\n",
    "scaler = StandardScaler()\n",
    "data_normalized = scaler.fit_transform(data)\n",
    "data_normalized"
   ]
  },
  {
   "cell_type": "markdown",
   "id": "aaf416d6-bede-4c28-ab22-34176ea7ee73",
   "metadata": {},
   "source": [
    "## Questão Única: Implementar os algoritmos K-médias e K-medianas usando o conjunto de dados disponibilizado no SIGAA (datasetTC4.dat)."
   ]
  },
  {
   "cell_type": "markdown",
   "id": "8ddbb7b8-a1c2-45e0-ac95-43a2347c66bf",
   "metadata": {},
   "source": [
    "### 1.1 Usando o algoritmo K-médias, estimar o número de agrupamentos através dos ı́ndices de validação:"
   ]
  },
  {
   "cell_type": "markdown",
   "id": "ca9e4582-ccb9-492a-a7d0-74f17a0af161",
   "metadata": {},
   "source": [
    "## 1 - Dunn"
   ]
  },
  {
   "cell_type": "code",
   "execution_count": 4,
   "id": "662391a0-d51f-4e23-9ae8-ad5961cbfb60",
   "metadata": {},
   "outputs": [],
   "source": [
    "# Função para calcular o índice de Dunn\n",
    "def dunn_index(X, labels, centroids):\n",
    "    X_array = X.values if isinstance(X, pd.DataFrame) else X\n",
    "    dist_matrix = np.linalg.norm(X_array - centroids[labels], axis=-1)\n",
    "\n",
    "    min_diameter = np.inf\n",
    "    for k in range(len(centroids)):\n",
    "        cluster_points = X_array[labels == k]\n",
    "        cluster_diameter = np.max(np.linalg.norm(cluster_points - centroids[k], axis=-1))\n",
    "        min_diameter = min(min_diameter, cluster_diameter)\n",
    "\n",
    "    mask = labels != labels[:, np.newaxis]\n",
    "    min_intercluster_distance = np.min(dist_matrix[mask.any(axis=1)])\n",
    "\n",
    "    if min_diameter == 0:\n",
    "        return np.nan\n",
    "    else:\n",
    "        return min_intercluster_distance / min_diameter"
   ]
  },
  {
   "cell_type": "markdown",
   "id": "99757ad4-5a51-42d8-aa84-5faa6b9a8b48",
   "metadata": {},
   "source": [
    "## 2 - Davies-Bouldin"
   ]
  },
  {
   "cell_type": "code",
   "execution_count": 5,
   "id": "4ff0eaa6-7dce-4527-8feb-8338726f8e8e",
   "metadata": {},
   "outputs": [],
   "source": [
    "# Função para calcular o índice de Davies-Bouldin\n",
    "def davies_bouldin_index(X, labels, centroids):\n",
    "    X_array = X.values if isinstance(X, pd.DataFrame) else X\n",
    "    num_clusters = len(centroids)\n",
    "    distances_matrix = np.zeros((num_clusters, num_clusters))\n",
    "\n",
    "    for i in range(num_clusters):\n",
    "        for j in range(i + 1, num_clusters):\n",
    "            distances_matrix[i, j] = np.linalg.norm(centroids[i] - centroids[j])\n",
    "            distances_matrix[j, i] = distances_matrix[i, j]\n",
    "\n",
    "    max_cluster_distances = np.zeros(num_clusters)\n",
    "\n",
    "    for k in range(num_clusters):\n",
    "        cluster_points = X_array[labels == k]\n",
    "        mean_distance = np.mean(np.linalg.norm(cluster_points - centroids[k], axis=-1))\n",
    "        max_cluster_distances[k] = max([distances_matrix[k, j] for j in range(num_clusters) if j != k])\n",
    "\n",
    "    return np.sum(max_cluster_distances) / num_clusters"
   ]
  },
  {
   "cell_type": "markdown",
   "id": "37e4c330-4b25-40d6-aab5-c22fe0d10548",
   "metadata": {},
   "source": [
    "## 3 - Calinski-Harabasz"
   ]
  },
  {
   "cell_type": "code",
   "execution_count": 6,
   "id": "8e8b6e00-c9d3-4111-abd0-faf7cc82780a",
   "metadata": {},
   "outputs": [],
   "source": [
    "# Função para calcular a métrica de Calinski-Harabasz\n",
    "def calinski_harabasz_index(X, labels, centroids):\n",
    "    X_array = X.values if isinstance(X, pd.DataFrame) else X\n",
    "    num_samples, num_features = X_array.shape\n",
    "    num_clusters = len(centroids)\n",
    "\n",
    "    overall_mean = np.mean(X_array, axis=0)\n",
    "    overall_ss = np.sum(np.sum((X_array - overall_mean) ** 2, axis=1))\n",
    "\n",
    "    between_cluster_ss = 0\n",
    "    within_cluster_ss = 0\n",
    "\n",
    "    for k in range(num_clusters):\n",
    "        cluster_points = X_array[labels == k]\n",
    "        cluster_size = len(cluster_points)\n",
    "\n",
    "        cluster_mean = np.mean(cluster_points, axis=0)\n",
    "        between_cluster_ss += cluster_size * np.sum((cluster_mean - overall_mean) ** 2)\n",
    "\n",
    "        within_cluster_ss += np.sum(np.sum((cluster_points - cluster_mean) ** 2, axis=1))\n",
    "\n",
    "    return (between_cluster_ss / (num_clusters - 1)) / (within_cluster_ss / (num_samples - num_clusters))"
   ]
  },
  {
   "cell_type": "code",
   "execution_count": 7,
   "id": "b3d27cd3-2c29-4f75-8435-51f5c3a3fc8f",
   "metadata": {},
   "outputs": [
    {
     "name": "stdout",
     "output_type": "stream",
     "text": [
      "Resultado do índice de Dunn:\n",
      " - Valor ótimo de K: 4\n",
      " - Índices de Dunn para diferentes valores de K: [0.11159227241921335, 0.055987098703777854, nan, nan, nan, nan, nan, nan, nan]\n",
      "\n",
      "Resultado do índice de Davies-Bouldin:\n",
      " - Valor ótimo de K: 2\n",
      " - Índices de Davies-Bouldin para diferentes valores de K: [3.077053165076801, 3.665931438483645, 12.871727821274801, 12.807325112711743, 12.733667168941963, 12.817792421129942, 12.837443300069733, 12.763230074239752, 12.816821790291181]\n",
      "\n",
      "Resultado do índice de Calinski-Harabasz:\n",
      " - Valor ótimo de K: 2\n",
      " - Índices de Calinski-Harabasz para diferentes valores de K: [189.336302284451, 153.57004061168072, 134.11615615633877, 123.03593251654657, 118.47732266440362, 112.4223433739261, 106.81011901133024, 102.15576662798888, 97.88932855233584]\n"
     ]
    }
   ],
   "source": [
    "# Realizar a análise para diferentes valores de K\n",
    "Kmax = 10\n",
    "\n",
    "# Inicializar listas para armazenar os resultados dos índices\n",
    "dunn_scores = []\n",
    "davies_bouldin_scores = []\n",
    "calinski_harabasz_scores = []\n",
    "\n",
    "for k in range(2, Kmax + 1):\n",
    "    kmeans = KMeans(n_clusters=k, random_state=np.random.randint(1000))\n",
    "    labels = kmeans.fit_predict(data_normalized)\n",
    "    centroids = kmeans.cluster_centers_\n",
    "\n",
    "    # Calcular os índices para cada valor de K\n",
    "    dunn_scores.append(dunn_index(data_normalized, labels, centroids))\n",
    "    davies_bouldin_scores.append(davies_bouldin_index(data_normalized, labels, centroids))\n",
    "    calinski_harabasz_scores.append(calinski_harabasz_index(data_normalized, labels, centroids))\n",
    "\n",
    "# Encontrar o valor ótimo de K para cada índice\n",
    "optimal_k_dunn = np.argmax(dunn_scores) + 2  # Adiciona 2 porque começamos com K=2\n",
    "optimal_k_davies_bouldin = np.argmin(davies_bouldin_scores) + 2\n",
    "optimal_k_calinski_harabasz = np.argmax(calinski_harabasz_scores) + 2\n",
    "\n",
    "# Imprimir os resultados\n",
    "print(\"Resultado do índice de Dunn:\")\n",
    "print(\" - Valor ótimo de K:\", optimal_k_dunn)\n",
    "print(\" - Índices de Dunn para diferentes valores de K:\", dunn_scores)\n",
    "\n",
    "print(\"\\nResultado do índice de Davies-Bouldin:\")\n",
    "print(\" - Valor ótimo de K:\", optimal_k_davies_bouldin)\n",
    "print(\" - Índices de Davies-Bouldin para diferentes valores de K:\", davies_bouldin_scores)\n",
    "\n",
    "print(\"\\nResultado do índice de Calinski-Harabasz:\")\n",
    "print(\" - Valor ótimo de K:\", optimal_k_calinski_harabasz)\n",
    "print(\" - Índices de Calinski-Harabasz para diferentes valores de K:\", calinski_harabasz_scores)"
   ]
  },
  {
   "cell_type": "markdown",
   "id": "88601fb7-3162-48e3-b70a-58bb8a24b01d",
   "metadata": {},
   "source": [
    "## (i) Qual valor para o número de agrupamentos foi sugerido por cada técnica de validação?"
   ]
  },
  {
   "cell_type": "raw",
   "id": "851eae9e-999f-4d59-88b3-1891b928bf8c",
   "metadata": {},
   "source": [
    "Dunn: K (Kopt) = 4\n",
    "Davies-Bouldin: K (Kopt) = 2\n",
    "Calinski-Harabasz: K (Kopt) = 2"
   ]
  },
  {
   "cell_type": "markdown",
   "id": "97c3adc4-9b55-4718-98b6-a12ccaa24e90",
   "metadata": {},
   "source": [
    "## (ii) Se houve divergência entre os resultados sugeridos pelos ı́ndices, o que justifica tal divergência?"
   ]
  },
  {
   "cell_type": "raw",
   "id": "ca80da16-80ad-4668-b882-b06841b35342",
   "metadata": {},
   "source": [
    "Os índices de avaliação de cluster podem fornecer resultados diferentes porque estão otimizando diferentes aspectos da qualidade do agrupamento.\n",
    "O índice de Dunn visa medir a compactação intracluster em relação à separação intercluster.\n",
    "O índice de Davies-Bouldin avalia a compactação intracluster e a separação intercluster, tentando minimizar a compactação intracluster e maximizar a separação intercluster.\n",
    "O índice Calinski-Harabasz avalia a razão entre a dispersão entre clusters e a dispersão intracluster, buscando maximizar essa razão."
   ]
  },
  {
   "cell_type": "markdown",
   "id": "1be8daf2-a457-47ec-9861-1b01bfd82b0e",
   "metadata": {},
   "source": [
    "## 1.2 Rodar o algoritmo K-medianas usando o número de agrupamentos escolhidos no Subitem 1"
   ]
  },
  {
   "cell_type": "code",
   "execution_count": null,
   "id": "89639021-cef7-43ad-97b9-0a457dfe8ea3",
   "metadata": {},
   "outputs": [],
   "source": []
  }
 ],
 "metadata": {
  "kernelspec": {
   "display_name": "Python 3",
   "language": "python",
   "name": "python3"
  },
  "language_info": {
   "codemirror_mode": {
    "name": "ipython",
    "version": 3
   },
   "file_extension": ".py",
   "mimetype": "text/x-python",
   "name": "python",
   "nbconvert_exporter": "python",
   "pygments_lexer": "ipython3",
   "version": "3.8.2"
  }
 },
 "nbformat": 4,
 "nbformat_minor": 5
}
