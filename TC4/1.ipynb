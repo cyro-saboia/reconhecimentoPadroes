{
 "cells": [
  {
   "cell_type": "code",
   "execution_count": 1,
   "id": "d933913c-b0a2-4e3d-8e64-659a0dd6f887",
   "metadata": {},
   "outputs": [],
   "source": [
    "import pandas as pd\n",
    "import numpy as np\n",
    "import matplotlib.pyplot as plt\n",
    "from sklearn.cluster import KMeans\n",
    "from sklearn.preprocessing import StandardScaler"
   ]
  },
  {
   "cell_type": "code",
   "execution_count": 2,
   "id": "70565ca1-db26-4d92-b1cf-d63c22ac3f85",
   "metadata": {},
   "outputs": [
    {
     "data": {
      "text/html": [
       "<div>\n",
       "<style scoped>\n",
       "    .dataframe tbody tr th:only-of-type {\n",
       "        vertical-align: middle;\n",
       "    }\n",
       "\n",
       "    .dataframe tbody tr th {\n",
       "        vertical-align: top;\n",
       "    }\n",
       "\n",
       "    .dataframe thead th {\n",
       "        text-align: right;\n",
       "    }\n",
       "</style>\n",
       "<table border=\"1\" class=\"dataframe\">\n",
       "  <thead>\n",
       "    <tr style=\"text-align: right;\">\n",
       "      <th></th>\n",
       "      <th>0</th>\n",
       "      <th>1</th>\n",
       "      <th>2</th>\n",
       "      <th>3</th>\n",
       "      <th>4</th>\n",
       "      <th>5</th>\n",
       "    </tr>\n",
       "  </thead>\n",
       "  <tbody>\n",
       "    <tr>\n",
       "      <th>0</th>\n",
       "      <td>63.03</td>\n",
       "      <td>22.55</td>\n",
       "      <td>39.61</td>\n",
       "      <td>40.48</td>\n",
       "      <td>98.67</td>\n",
       "      <td>-0.25</td>\n",
       "    </tr>\n",
       "    <tr>\n",
       "      <th>1</th>\n",
       "      <td>39.06</td>\n",
       "      <td>10.06</td>\n",
       "      <td>25.02</td>\n",
       "      <td>29.00</td>\n",
       "      <td>114.41</td>\n",
       "      <td>4.56</td>\n",
       "    </tr>\n",
       "    <tr>\n",
       "      <th>2</th>\n",
       "      <td>68.83</td>\n",
       "      <td>22.22</td>\n",
       "      <td>50.09</td>\n",
       "      <td>46.61</td>\n",
       "      <td>105.99</td>\n",
       "      <td>-3.53</td>\n",
       "    </tr>\n",
       "    <tr>\n",
       "      <th>3</th>\n",
       "      <td>69.30</td>\n",
       "      <td>24.65</td>\n",
       "      <td>44.31</td>\n",
       "      <td>44.64</td>\n",
       "      <td>101.87</td>\n",
       "      <td>11.21</td>\n",
       "    </tr>\n",
       "    <tr>\n",
       "      <th>4</th>\n",
       "      <td>49.71</td>\n",
       "      <td>9.65</td>\n",
       "      <td>28.32</td>\n",
       "      <td>40.06</td>\n",
       "      <td>108.17</td>\n",
       "      <td>7.92</td>\n",
       "    </tr>\n",
       "  </tbody>\n",
       "</table>\n",
       "</div>"
      ],
      "text/plain": [
       "       0      1      2      3       4      5\n",
       "0  63.03  22.55  39.61  40.48   98.67  -0.25\n",
       "1  39.06  10.06  25.02  29.00  114.41   4.56\n",
       "2  68.83  22.22  50.09  46.61  105.99  -3.53\n",
       "3  69.30  24.65  44.31  44.64  101.87  11.21\n",
       "4  49.71   9.65  28.32  40.06  108.17   7.92"
      ]
     },
     "execution_count": 2,
     "metadata": {},
     "output_type": "execute_result"
    }
   ],
   "source": [
    "file = 'datasetTC4.dat'\n",
    "data = pd.read_csv(file, header=None, sep=' ')\n",
    "data = data.iloc[:, :-1]\n",
    "data.head()"
   ]
  },
  {
   "cell_type": "code",
   "execution_count": 3,
   "id": "c557b3bd-d538-4eb3-9b41-aefba8d4a840",
   "metadata": {},
   "outputs": [
    {
     "data": {
      "text/plain": [
       "array([[ 0.14722652,  0.50111133, -0.66512805, -0.18460234, -1.44783071,\n",
       "        -0.70794606],\n",
       "       [-1.24570706, -0.74889057, -1.45276272, -1.04124965, -0.26402779,\n",
       "        -0.57967342],\n",
       "       [ 0.48427345,  0.46808485, -0.0993699 ,  0.27282344, -0.89729467,\n",
       "        -0.79541679],\n",
       "       ...,\n",
       "       [ 0.05541029,  0.51512256, -0.31098936, -0.31369641,  0.58283504,\n",
       "        -0.77354911],\n",
       "       [-0.88599664, -0.88600047, -0.55877847, -0.47711606,  0.04734096,\n",
       "        -0.69567882],\n",
       "       [-1.54904929, -1.24829085, -0.82546218, -1.05841244,  0.45347411,\n",
       "        -0.70661266]])"
      ]
     },
     "execution_count": 3,
     "metadata": {},
     "output_type": "execute_result"
    }
   ],
   "source": [
    "# Passo 1 - Normalizar os dados\n",
    "scaler = StandardScaler()\n",
    "data_normalized = scaler.fit_transform(data)\n",
    "data_normalized"
   ]
  },
  {
   "cell_type": "markdown",
   "id": "aaf416d6-bede-4c28-ab22-34176ea7ee73",
   "metadata": {},
   "source": [
    "## Questão Única: Implementar os algoritmos K-médias e K-medianas usando o conjunto de dados disponibilizado no SIGAA (datasetTC4.dat)."
   ]
  },
  {
   "cell_type": "markdown",
   "id": "8ddbb7b8-a1c2-45e0-ac95-43a2347c66bf",
   "metadata": {},
   "source": [
    "### Usando o algoritmo K-médias, estimar o número de agrupamentos através dos ı́ndices de validação:"
   ]
  },
  {
   "cell_type": "code",
   "execution_count": 4,
   "id": "12ead235-92bd-41cf-98c1-2880c19ef4ed",
   "metadata": {},
   "outputs": [],
   "source": [
    "# Função para executar o algoritmo K-médias com várias rodadas e retornar a melhor\n",
    "def kmeans_with_min_ssd(X, k, n_runs=10):\n",
    "    min_ssd = np.inf\n",
    "    best_labels = None\n",
    "    best_centroids = None\n",
    "\n",
    "    for _ in range(n_runs):\n",
    "        kmeans = KMeans(n_clusters=k, random_state=np.random.randint(1000))\n",
    "        labels = kmeans.fit_predict(X)\n",
    "        ssd = np.sum((X - kmeans.cluster_centers_[labels])**2)\n",
    "\n",
    "        if ssd < min_ssd:\n",
    "            min_ssd = ssd\n",
    "            best_labels = labels\n",
    "            best_centroids = kmeans.cluster_centers_\n",
    "\n",
    "    return best_labels, best_centroids"
   ]
  },
  {
   "cell_type": "markdown",
   "id": "ca9e4582-ccb9-492a-a7d0-74f17a0af161",
   "metadata": {},
   "source": [
    "## 1 - Dunn"
   ]
  },
  {
   "cell_type": "code",
   "execution_count": 5,
   "id": "662391a0-d51f-4e23-9ae8-ad5961cbfb60",
   "metadata": {},
   "outputs": [],
   "source": [
    "# Função para calcular o índice de Dunn\n",
    "def dunn_index(X, labels, centroids):\n",
    "    X_array = X.values if isinstance(X, pd.DataFrame) else X\n",
    "    dist_matrix = np.linalg.norm(X_array - centroids[labels], axis=-1)\n",
    "\n",
    "    min_diameter = np.inf\n",
    "    for k in range(len(centroids)):\n",
    "        cluster_points = X_array[labels == k]\n",
    "        cluster_diameter = np.max(np.linalg.norm(cluster_points - centroids[k], axis=-1))\n",
    "        min_diameter = min(min_diameter, cluster_diameter)\n",
    "\n",
    "    mask = labels != labels[:, np.newaxis]\n",
    "    min_intercluster_distance = np.min(dist_matrix[mask.any(axis=1)])\n",
    "\n",
    "    if min_diameter == 0:\n",
    "        return np.nan\n",
    "    else:\n",
    "        return min_intercluster_distance / min_diameter"
   ]
  },
  {
   "cell_type": "code",
   "execution_count": 6,
   "id": "dc76fbf3-d30e-4154-bbcb-272059275834",
   "metadata": {},
   "outputs": [
    {
     "name": "stdout",
     "output_type": "stream",
     "text": [
      "Índice de Dunn para diferentes valores de K: [0.11159227241921335, 0.05493040620388903, nan, nan, nan, nan, nan, nan, nan, nan, nan, nan, nan, nan, nan, nan, nan, nan, nan, nan, nan, nan, nan, nan, nan, nan, nan, nan, nan, nan, nan, nan, nan, nan, nan, nan, nan, nan, nan, nan, nan, nan, nan, nan, nan, nan, nan, nan, nan, nan, nan, nan, nan, nan, nan, nan, nan, nan, nan, nan, nan, nan, nan, nan, nan, nan, nan, nan, nan, nan, nan, nan, nan, nan, nan, nan, nan, nan, nan, nan, nan, nan, nan, nan, nan, nan, nan, nan, nan, nan, nan, nan, nan, nan, nan, nan, nan, nan, nan]\n",
      "Valor ótimo de K (Kopt): 4\n"
     ]
    }
   ],
   "source": [
    "# Passo 2 e 3 - Calcular o índice de Dunn para diferentes valores de K\n",
    "Kmax = 100\n",
    "dunn_scores = []\n",
    "\n",
    "for k in range(2, Kmax + 1):\n",
    "    labels, centroids = kmeans_with_min_ssd(data_normalized, k)\n",
    "    dunn_scores.append(dunn_index(data_normalized, labels, centroids))\n",
    "\n",
    "# Passo 4 - Escolher o valor ótimo Kopt como aquele que otimiza o índice de Dunn\n",
    "optimal_k = np.argmax(dunn_scores) + 2  # Adiciona 2 porque começamos com K=2\n",
    "optimal_labels, optimal_centroids = kmeans_with_min_ssd(data_normalized, optimal_k)\n",
    "\n",
    "# Passo 5 - Particionar os dados entre os Kopt agrupamentos\n",
    "optimal_labels, _ = kmeans_with_min_ssd(data_normalized, optimal_k)\n",
    "data['Cluster'] = optimal_labels\n",
    "\n",
    "# Reportar estatísticas descritivas dos atributos por agrupamento\n",
    "#grouped_stats = data.groupby('Cluster').describe().transpose()\n",
    "\n",
    "# Mostrar resultados\n",
    "print(\"Índice de Dunn para diferentes valores de K:\", dunn_scores)\n",
    "print(\"Valor ótimo de K (Kopt):\", optimal_k)\n",
    "#print(\"\\nEstatísticas descritivas por agrupamento:\")\n",
    "#print(grouped_stats)"
   ]
  },
  {
   "cell_type": "markdown",
   "id": "99757ad4-5a51-42d8-aa84-5faa6b9a8b48",
   "metadata": {},
   "source": [
    "## Davies-Bouldin"
   ]
  },
  {
   "cell_type": "code",
   "execution_count": 8,
   "id": "4ff0eaa6-7dce-4527-8feb-8338726f8e8e",
   "metadata": {},
   "outputs": [],
   "source": [
    "# Função para calcular o índice de Davies-Bouldin\n",
    "def davies_bouldin_index(X, labels, centroids):\n",
    "    X_array = X.values if isinstance(X, pd.DataFrame) else X\n",
    "    num_clusters = len(centroids)\n",
    "    distances_matrix = np.zeros((num_clusters, num_clusters))\n",
    "\n",
    "    for i in range(num_clusters):\n",
    "        for j in range(i + 1, num_clusters):\n",
    "            distances_matrix[i, j] = np.linalg.norm(centroids[i] - centroids[j])\n",
    "            distances_matrix[j, i] = distances_matrix[i, j]\n",
    "\n",
    "    max_cluster_distances = np.zeros(num_clusters)\n",
    "\n",
    "    for k in range(num_clusters):\n",
    "        cluster_points = X_array[labels == k]\n",
    "        mean_distance = np.mean(np.linalg.norm(cluster_points - centroids[k], axis=-1))\n",
    "        max_cluster_distances[k] = max([distances_matrix[k, j] for j in range(num_clusters) if j != k])\n",
    "\n",
    "    return np.sum(max_cluster_distances) / num_clusters"
   ]
  },
  {
   "cell_type": "code",
   "execution_count": 9,
   "id": "2451f45e-c531-4c6f-899a-a9909fe6fdd7",
   "metadata": {},
   "outputs": [
    {
     "name": "stdout",
     "output_type": "stream",
     "text": [
      "Índice de Davies-Bouldin para diferentes valores de K: [3.077053165076801, 3.6865830561429807, 12.845775800170413, 12.674569845800423, 12.729995027147107, 12.834111075415828, 12.76569146814768, 12.692522187139486, 12.70673346579874, 12.72624608296034, 12.63766554011689, 12.771871230549436, 12.702428807286369, 12.762860373066902, 12.596607979320957, 12.629628563110675, 12.589634989043232, 12.684696559663957, 12.672351558764621, 12.626947633589262, 12.583141004526414, 12.723143469747582, 12.680591186046422, 12.660966322884414, 12.702235146933628, 12.722535278471925, 12.59956575128233, 12.621722036209539, 12.643162090965747, 12.654928228857111, 12.636882881709269, 12.68242184879098, 12.623625623411014, 12.554023596486246, 12.615782271010206, 12.699845124524888, 12.555684158834183, 12.640960204271112, 12.621254234894693, 12.693645002685807, 12.621378840808735, 12.735900494198729, 12.652382504314282, 12.62439397694871, 12.703748764343365, 12.523387775468827, 12.555774712050697, 12.617586471668906, 12.571010488221724, 12.614600243913946, 12.566809733571985, 12.591783587768667, 12.604408949615468, 12.59578810514825, 12.686155798323094, 12.634804877035684, 12.652339290295332, 12.588398397373753, 12.662312038915612, 12.531856685544133, 12.507688146287693, 12.668658649736287, 12.572427734780764, 12.668230184951765, 12.586877874355803, 12.570461503831204, 12.627495043970374, 12.666513354498134, 12.616210445935625, 12.693160097507485, 12.636259167807323, 12.62542620801799, 12.591509853538804, 12.598073079377974, 12.605955408757364, 12.681244718209413, 12.598794758175075, 12.606191233310883, 12.603413469420456, 12.561238502167562, 12.617214741198733, 12.6395417443414, 12.638444811432237, 12.537767696939376, 12.617053277761688, 12.672329879722577, 12.579511491741023, 12.670453472693842, 12.58773687457053, 12.67338641681005, 12.697368928110915, 12.65817771076612, 12.66678987238193, 12.554603472161304, 12.609255620652846, 12.651988612982999, 12.636430022911872, 12.64235169854181, 12.60779736621659]\n",
      "Valor ótimo de K (Kopt): 2\n"
     ]
    }
   ],
   "source": [
    "# Passo 2 e 3 - Calcular o índice de Davies-Bouldin para diferentes valores de K\n",
    "Kmax = 100\n",
    "davies_bouldin_scores = []\n",
    "\n",
    "for k in range(2, Kmax + 1):\n",
    "    labels, centroids = kmeans_with_min_ssd(data_normalized, k)\n",
    "    davies_bouldin_scores.append(davies_bouldin_index(data_normalized, labels, centroids))\n",
    "\n",
    "# Passo 4 - Escolher o valor ótimo Kopt como aquele que minimiza o índice de Davies-Bouldin\n",
    "optimal_k = np.argmin(davies_bouldin_scores) + 2  # Adiciona 2 porque começamos com K=2\n",
    "optimal_labels, optimal_centroids = kmeans_with_min_ssd(data_normalized, optimal_k)\n",
    "\n",
    "# Passo 5 - Particionar os dados entre os Kopt agrupamentos\n",
    "optimal_labels, _ = kmeans_with_min_ssd(data_normalized, optimal_k)\n",
    "data['Cluster'] = optimal_labels\n",
    "\n",
    "# Mostrar resultados\n",
    "print(\"Índice de Davies-Bouldin para diferentes valores de K:\", davies_bouldin_scores)\n",
    "print(\"Valor ótimo de K (Kopt):\", optimal_k)"
   ]
  },
  {
   "cell_type": "markdown",
   "id": "37e4c330-4b25-40d6-aab5-c22fe0d10548",
   "metadata": {},
   "source": [
    "## Calinski-Harabasz"
   ]
  },
  {
   "cell_type": "code",
   "execution_count": 10,
   "id": "8e8b6e00-c9d3-4111-abd0-faf7cc82780a",
   "metadata": {},
   "outputs": [],
   "source": [
    "# Função para calcular a métrica de Calinski-Harabasz\n",
    "def calinski_harabasz_index(X, labels, centroids):\n",
    "    X_array = X.values if isinstance(X, pd.DataFrame) else X\n",
    "    num_samples, num_features = X_array.shape\n",
    "    num_clusters = len(centroids)\n",
    "\n",
    "    overall_mean = np.mean(X_array, axis=0)\n",
    "    overall_ss = np.sum(np.sum((X_array - overall_mean) ** 2, axis=1))\n",
    "\n",
    "    between_cluster_ss = 0\n",
    "    within_cluster_ss = 0\n",
    "\n",
    "    for k in range(num_clusters):\n",
    "        cluster_points = X_array[labels == k]\n",
    "        cluster_size = len(cluster_points)\n",
    "\n",
    "        cluster_mean = np.mean(cluster_points, axis=0)\n",
    "        between_cluster_ss += cluster_size * np.sum((cluster_mean - overall_mean) ** 2)\n",
    "\n",
    "        within_cluster_ss += np.sum(np.sum((cluster_points - cluster_mean) ** 2, axis=1))\n",
    "\n",
    "    return (between_cluster_ss / (num_clusters - 1)) / (within_cluster_ss / (num_samples - num_clusters))"
   ]
  },
  {
   "cell_type": "code",
   "execution_count": 11,
   "id": "b3d27cd3-2c29-4f75-8435-51f5c3a3fc8f",
   "metadata": {},
   "outputs": [
    {
     "name": "stdout",
     "output_type": "stream",
     "text": [
      "Índice de Calinski-Harabasz para diferentes valores de K: [189.336302284451, 153.5759520609528, 134.4270301642051, 124.51797276477636, 118.68010755134631, 112.66011808047709, 107.0869638294243, 103.16330859883703, 98.94893068819539, 94.36629483131087, 91.17758208725337, 88.03189781765347, 86.45688902550786, 83.65504757851949, 81.72055756165052, 80.2384286735316, 78.86470376825687, 76.14949051683126, 74.91389179641587, 74.55068414902931, 72.34337025807213, 71.43813502898867, 70.4923989370308, 69.9224144972078, 68.678715282557, 67.80753842533146, 66.59432674543773, 66.88546614095844, 66.03810723726387, 64.23476553457839, 63.87679672967513, 62.906627671827835, 63.12799684903986, 62.52171366814858, 60.892913377195974, 61.91548353924671, 59.53503345890483, 59.58119123978232, 59.184054686467725, 58.17224766256927, 57.88117604477126, 56.9608620188561, 57.005862712567854, 56.33213256775073, 56.9925765768663, 55.92514120707815, 55.68258981207668, 55.84448565608198, 55.18738993882095, 54.32165695883642, 54.355968935977906, 54.293597021532676, 53.64197121592164, 53.74136528151884, 54.54182567990862, 53.05838204981207, 53.2409416329519, 52.98391835870137, 52.45142722594906, 52.437744243340724, 52.96161388119895, 51.774501859899495, 51.6943048809118, 51.520813146462004, 52.333646546399464, 51.54216978737484, 51.5459371817321, 51.90491457185195, 51.74268105754384, 50.5629925716724, 51.143547818211644, 50.40025163306032, 51.23039563379378, 49.962998402221274, 50.53669959921454, 50.318286890586634, 50.85254118517306, 49.505555788888, 50.146698015284045, 49.51170494470144, 50.24059014907411, 49.52133481407625, 49.94849251799367, 50.74969737746909, 49.8279244532198, 49.489762012814424, 49.56445303759911, 49.45295544178521, 49.886259606661326, 48.88780225766425, 49.69565924719851, 49.225743795524416, 48.88894003411509, 48.601962917134976, 49.59090173138297, 49.1260237003231, 48.35795971215128, 48.39747668117997, 49.29662147419618]\n",
      "Valor ótimo de K (Kopt): 2\n"
     ]
    }
   ],
   "source": [
    "# Passo 2 e 3 - Calcular a métrica de Calinski-Harabasz para diferentes valores de K\n",
    "Kmax = 100\n",
    "calinski_harabasz_scores = []\n",
    "\n",
    "for k in range(2, Kmax + 1):\n",
    "    labels, centroids = kmeans_with_min_ssd(data_normalized, k)\n",
    "    calinski_harabasz_scores.append(calinski_harabasz_index(data_normalized, labels, centroids))\n",
    "\n",
    "# Passo 4 - Escolher o valor ótimo Kopt como aquele que otimiza a métrica de Calinski-Harabasz\n",
    "optimal_k = np.argmax(calinski_harabasz_scores) + 2  # Adiciona 2 porque começamos com K=2\n",
    "optimal_labels, optimal_centroids = kmeans_with_min_ssd(data_normalized, optimal_k)\n",
    "\n",
    "# Passo 5 - Particionar os dados entre os Kopt agrupamentos\n",
    "optimal_labels, _ = kmeans_with_min_ssd(data_normalized, optimal_k)\n",
    "data['Cluster'] = optimal_labels\n",
    "\n",
    "# Mostrar resultados\n",
    "print(\"Índice de Calinski-Harabasz para diferentes valores de K:\", calinski_harabasz_scores)\n",
    "print(\"Valor ótimo de K (Kopt):\", optimal_k)"
   ]
  },
  {
   "cell_type": "markdown",
   "id": "88601fb7-3162-48e3-b70a-58bb8a24b01d",
   "metadata": {},
   "source": [
    "## (i) Qual valor para o número de agrupamentos foi sugerido por cada técnica de validação?"
   ]
  },
  {
   "cell_type": "raw",
   "id": "851eae9e-999f-4d59-88b3-1891b928bf8c",
   "metadata": {},
   "source": [
    "Dunn: K (Kopt) = 4\n",
    "Davies-Bouldin: K (Kopt) = 2\n",
    "Calinski-Harabasz: K (Kopt) = 2"
   ]
  },
  {
   "cell_type": "markdown",
   "id": "97c3adc4-9b55-4718-98b6-a12ccaa24e90",
   "metadata": {},
   "source": [
    "## (ii) Se houve divergência entre os resultados sugeridos pelos ı́ndices, o que justifica tal divergência?"
   ]
  },
  {
   "cell_type": "raw",
   "id": "ca80da16-80ad-4668-b882-b06841b35342",
   "metadata": {},
   "source": [
    "Os índices de avaliação de cluster podem fornecer resultados diferentes porque estão otimizando diferentes aspectos da qualidade do agrupamento.\n",
    "O índice de Dunn visa medir a compactação intracluster em relação à separação intercluster.\n",
    "O índice de Davies-Bouldin avalia a compactação intracluster e a separação intercluster, tentando minimizar a compactação intracluster e maximizar a separação intercluster.\n",
    "O índice Calinski-Harabasz avalia a razão entre a dispersão entre clusters e a dispersão intracluster, buscando maximizar essa razão."
   ]
  }
 ],
 "metadata": {
  "kernelspec": {
   "display_name": "Python 3",
   "language": "python",
   "name": "python3"
  },
  "language_info": {
   "codemirror_mode": {
    "name": "ipython",
    "version": 3
   },
   "file_extension": ".py",
   "mimetype": "text/x-python",
   "name": "python",
   "nbconvert_exporter": "python",
   "pygments_lexer": "ipython3",
   "version": "3.8.2"
  }
 },
 "nbformat": 4,
 "nbformat_minor": 5
}
