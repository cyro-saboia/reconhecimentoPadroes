{
 "cells": [
  {
   "cell_type": "code",
   "execution_count": 1,
   "id": "296edfea-e6c1-444d-813f-ddd2cc29461f",
   "metadata": {},
   "outputs": [],
   "source": [
    "import pandas as pd\n",
    "import numpy as np"
   ]
  },
  {
   "cell_type": "code",
   "execution_count": 2,
   "id": "296262f2-5d9b-4406-acf1-68859c5068b8",
   "metadata": {},
   "outputs": [
    {
     "name": "stdout",
     "output_type": "stream",
     "text": [
      "(351, 34)\n"
     ]
    }
   ],
   "source": [
    "file = 'ionosphere.data'\n",
    "data = pd.read_csv(file, header=None)\n",
    "# removendo a ultima coluna dos dados\n",
    "# The 35th attribute is either \"good\" or \"bad\" according to the definition summarized above.  This is a binary classification task.\n",
    "data = data.iloc[:, :-1]\n",
    "print(data.shape)"
   ]
  },
  {
   "cell_type": "code",
   "execution_count": 4,
   "id": "746a7f4d-b2f7-4741-bd2a-27e268d8ad41",
   "metadata": {},
   "outputs": [
    {
     "name": "stdout",
     "output_type": "stream",
     "text": [
      "(34,)\n"
     ]
    }
   ],
   "source": [
    "# Calcular a média de cada variável\n",
    "mean_vector = np.mean(data, axis=0)\n",
    "print(mean_vector.shape)"
   ]
  },
  {
   "cell_type": "code",
   "execution_count": 5,
   "id": "d3336e8c-5afc-45f8-a9e8-ea2ebcec1bce",
   "metadata": {},
   "outputs": [
    {
     "name": "stdout",
     "output_type": "stream",
     "text": [
      "(351, 34)\n"
     ]
    }
   ],
   "source": [
    "# Centralizando os dados\n",
    "centered_data = data - mean_vector\n",
    "print(centered_data.shape)"
   ]
  },
  {
   "cell_type": "code",
   "execution_count": 6,
   "id": "531a7bcb-dda1-4fd9-ad77-469a07400074",
   "metadata": {},
   "outputs": [
    {
     "name": "stdout",
     "output_type": "stream",
     "text": [
      "(351, 351)\n"
     ]
    }
   ],
   "source": [
    "N = data.shape[1]\n",
    "c = (centered_data * centered_data.T) / N\n",
    "print(c.shape)"
   ]
  },
  {
   "cell_type": "markdown",
   "id": "62832bdb-6e6d-491b-b290-7f4187c93cd2",
   "metadata": {},
   "source": [
    "# Comando np.cov()"
   ]
  },
  {
   "cell_type": "code",
   "execution_count": 7,
   "id": "2fa444c5-e3ac-4925-9bbc-66c8c8ca2a7b",
   "metadata": {},
   "outputs": [
    {
     "name": "stdout",
     "output_type": "stream",
     "text": [
      "(351, 351)\n"
     ]
    }
   ],
   "source": [
    "cov = np.cov(data)\n",
    "print(cov.shape)"
   ]
  },
  {
   "cell_type": "markdown",
   "id": "e956369a-2773-4553-9ea9-03960bc10e3a",
   "metadata": {},
   "source": [
    "# Norma da matriz de diferenças E = Cmy - Cref"
   ]
  },
  {
   "cell_type": "code",
   "execution_count": 7,
   "id": "ad57c732-2fb6-48b5-b0ee-861a878e3eb9",
   "metadata": {},
   "outputs": [
    {
     "name": "stdout",
     "output_type": "stream",
     "text": [
      "          0         1         2         3         4         5         6    \\\n",
      "0   -0.282828 -0.203942 -0.239425 -0.019774 -0.239367 -0.030149 -0.330713   \n",
      "1   -0.203942 -0.280125 -0.164786 -0.115958 -0.177909 -0.047979 -0.236642   \n",
      "2   -0.239425 -0.164786 -0.216109 -0.005636 -0.206968 -0.019860 -0.280068   \n",
      "3   -0.019774 -0.115958 -0.005636 -0.436019 -0.018066 -0.036385  0.000808   \n",
      "4   -0.239367 -0.177909 -0.206968 -0.018066 -0.239130 -0.026335 -0.297045   \n",
      "..        ...       ...       ...       ...       ...       ...       ...   \n",
      "346       NaN       NaN       NaN       NaN       NaN       NaN       NaN   \n",
      "347       NaN       NaN       NaN       NaN       NaN       NaN       NaN   \n",
      "348       NaN       NaN       NaN       NaN       NaN       NaN       NaN   \n",
      "349       NaN       NaN       NaN       NaN       NaN       NaN       NaN   \n",
      "350       NaN       NaN       NaN       NaN       NaN       NaN       NaN   \n",
      "\n",
      "          7         8         9    ...  341  342  343  344  345  346  347  \\\n",
      "0    0.014732 -0.348990  0.002757  ...  NaN  NaN  NaN  NaN  NaN  NaN  NaN   \n",
      "1   -0.013289 -0.227401 -0.027875  ...  NaN  NaN  NaN  NaN  NaN  NaN  NaN   \n",
      "2    0.003087 -0.303523 -0.001894  ...  NaN  NaN  NaN  NaN  NaN  NaN  NaN   \n",
      "3   -0.216910  0.020866 -0.021104  ...  NaN  NaN  NaN  NaN  NaN  NaN  NaN   \n",
      "4    0.037853 -0.293813 -0.003413  ...  NaN  NaN  NaN  NaN  NaN  NaN  NaN   \n",
      "..        ...       ...       ...  ...  ...  ...  ...  ...  ...  ...  ...   \n",
      "346       NaN       NaN       NaN  ...  NaN  NaN  NaN  NaN  NaN  NaN  NaN   \n",
      "347       NaN       NaN       NaN  ...  NaN  NaN  NaN  NaN  NaN  NaN  NaN   \n",
      "348       NaN       NaN       NaN  ...  NaN  NaN  NaN  NaN  NaN  NaN  NaN   \n",
      "349       NaN       NaN       NaN  ...  NaN  NaN  NaN  NaN  NaN  NaN  NaN   \n",
      "350       NaN       NaN       NaN  ...  NaN  NaN  NaN  NaN  NaN  NaN  NaN   \n",
      "\n",
      "     348  349  350  \n",
      "0    NaN  NaN  NaN  \n",
      "1    NaN  NaN  NaN  \n",
      "2    NaN  NaN  NaN  \n",
      "3    NaN  NaN  NaN  \n",
      "4    NaN  NaN  NaN  \n",
      "..   ...  ...  ...  \n",
      "346  NaN  NaN  NaN  \n",
      "347  NaN  NaN  NaN  \n",
      "348  NaN  NaN  NaN  \n",
      "349  NaN  NaN  NaN  \n",
      "350  NaN  NaN  NaN  \n",
      "\n",
      "[351 rows x 351 columns]\n"
     ]
    }
   ],
   "source": [
    "E = c - cov\n",
    "print(E)"
   ]
  }
 ],
 "metadata": {
  "kernelspec": {
   "display_name": "Python 3",
   "language": "python",
   "name": "python3"
  },
  "language_info": {
   "codemirror_mode": {
    "name": "ipython",
    "version": 3
   },
   "file_extension": ".py",
   "mimetype": "text/x-python",
   "name": "python",
   "nbconvert_exporter": "python",
   "pygments_lexer": "ipython3",
   "version": "3.8.2"
  }
 },
 "nbformat": 4,
 "nbformat_minor": 5
}
