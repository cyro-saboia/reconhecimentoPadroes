{
 "cells": [
  {
   "cell_type": "code",
   "execution_count": 1,
   "id": "b32b4ccd-fb33-4c01-8c86-2a923f9d7c30",
   "metadata": {},
   "outputs": [],
   "source": [
    "import pandas as pd\n",
    "import numpy as np\n",
    "import matplotlib.pyplot as plt\n",
    "from sklearn.model_selection import train_test_split\n",
    "from sklearn.preprocessing import StandardScaler\n",
    "from sklearn.decomposition import PCA\n",
    "from sklearn.discriminant_analysis import QuadraticDiscriminantAnalysis\n",
    "from sklearn.metrics import accuracy_score"
   ]
  },
  {
   "cell_type": "raw",
   "id": "f5aef2ec-b926-4fa6-9b27-f6ef4cf780c1",
   "metadata": {},
   "source": [
    "# Instances 5456\n",
    "Number of Attributes \n",
    "   -- sensor_readings_24.data: 24 numeric attributes and the class.\n",
    "   -- sensor_readings_4.data:   4 numeric attributes and the class.\n",
    "   -- sensor_readings_2.data:   2 numeric attributes and the class."
   ]
  },
  {
   "cell_type": "code",
   "execution_count": 2,
   "id": "fd0f4a03-aea0-4874-88d8-193d00998288",
   "metadata": {},
   "outputs": [
    {
     "name": "stdout",
     "output_type": "stream",
     "text": [
      "(5456, 25)\n"
     ]
    },
    {
     "data": {
      "text/html": [
       "<div>\n",
       "<style scoped>\n",
       "    .dataframe tbody tr th:only-of-type {\n",
       "        vertical-align: middle;\n",
       "    }\n",
       "\n",
       "    .dataframe tbody tr th {\n",
       "        vertical-align: top;\n",
       "    }\n",
       "\n",
       "    .dataframe thead th {\n",
       "        text-align: right;\n",
       "    }\n",
       "</style>\n",
       "<table border=\"1\" class=\"dataframe\">\n",
       "  <thead>\n",
       "    <tr style=\"text-align: right;\">\n",
       "      <th></th>\n",
       "      <th>0</th>\n",
       "      <th>1</th>\n",
       "      <th>2</th>\n",
       "      <th>3</th>\n",
       "      <th>4</th>\n",
       "      <th>5</th>\n",
       "      <th>6</th>\n",
       "      <th>7</th>\n",
       "      <th>8</th>\n",
       "      <th>9</th>\n",
       "      <th>...</th>\n",
       "      <th>15</th>\n",
       "      <th>16</th>\n",
       "      <th>17</th>\n",
       "      <th>18</th>\n",
       "      <th>19</th>\n",
       "      <th>20</th>\n",
       "      <th>21</th>\n",
       "      <th>22</th>\n",
       "      <th>23</th>\n",
       "      <th>24</th>\n",
       "    </tr>\n",
       "  </thead>\n",
       "  <tbody>\n",
       "    <tr>\n",
       "      <th>0</th>\n",
       "      <td>0.438</td>\n",
       "      <td>0.498</td>\n",
       "      <td>3.625</td>\n",
       "      <td>3.645</td>\n",
       "      <td>5.0</td>\n",
       "      <td>2.918</td>\n",
       "      <td>5.0</td>\n",
       "      <td>2.351</td>\n",
       "      <td>2.332</td>\n",
       "      <td>2.643</td>\n",
       "      <td>...</td>\n",
       "      <td>0.593</td>\n",
       "      <td>0.502</td>\n",
       "      <td>0.493</td>\n",
       "      <td>0.504</td>\n",
       "      <td>0.445</td>\n",
       "      <td>0.431</td>\n",
       "      <td>0.444</td>\n",
       "      <td>0.440</td>\n",
       "      <td>0.429</td>\n",
       "      <td>Slight-Right-Turn</td>\n",
       "    </tr>\n",
       "    <tr>\n",
       "      <th>1</th>\n",
       "      <td>0.438</td>\n",
       "      <td>0.498</td>\n",
       "      <td>3.625</td>\n",
       "      <td>3.648</td>\n",
       "      <td>5.0</td>\n",
       "      <td>2.918</td>\n",
       "      <td>5.0</td>\n",
       "      <td>2.637</td>\n",
       "      <td>2.332</td>\n",
       "      <td>2.649</td>\n",
       "      <td>...</td>\n",
       "      <td>0.592</td>\n",
       "      <td>0.502</td>\n",
       "      <td>0.493</td>\n",
       "      <td>0.504</td>\n",
       "      <td>0.449</td>\n",
       "      <td>0.431</td>\n",
       "      <td>0.444</td>\n",
       "      <td>0.443</td>\n",
       "      <td>0.429</td>\n",
       "      <td>Slight-Right-Turn</td>\n",
       "    </tr>\n",
       "    <tr>\n",
       "      <th>2</th>\n",
       "      <td>0.438</td>\n",
       "      <td>0.498</td>\n",
       "      <td>3.625</td>\n",
       "      <td>3.629</td>\n",
       "      <td>5.0</td>\n",
       "      <td>2.918</td>\n",
       "      <td>5.0</td>\n",
       "      <td>2.637</td>\n",
       "      <td>2.334</td>\n",
       "      <td>2.643</td>\n",
       "      <td>...</td>\n",
       "      <td>0.593</td>\n",
       "      <td>0.502</td>\n",
       "      <td>0.493</td>\n",
       "      <td>0.504</td>\n",
       "      <td>0.449</td>\n",
       "      <td>0.431</td>\n",
       "      <td>0.444</td>\n",
       "      <td>0.446</td>\n",
       "      <td>0.429</td>\n",
       "      <td>Slight-Right-Turn</td>\n",
       "    </tr>\n",
       "    <tr>\n",
       "      <th>3</th>\n",
       "      <td>0.437</td>\n",
       "      <td>0.501</td>\n",
       "      <td>3.625</td>\n",
       "      <td>3.626</td>\n",
       "      <td>5.0</td>\n",
       "      <td>2.918</td>\n",
       "      <td>5.0</td>\n",
       "      <td>2.353</td>\n",
       "      <td>2.334</td>\n",
       "      <td>2.642</td>\n",
       "      <td>...</td>\n",
       "      <td>0.593</td>\n",
       "      <td>0.502</td>\n",
       "      <td>0.493</td>\n",
       "      <td>0.504</td>\n",
       "      <td>0.449</td>\n",
       "      <td>0.431</td>\n",
       "      <td>0.444</td>\n",
       "      <td>0.444</td>\n",
       "      <td>0.429</td>\n",
       "      <td>Slight-Right-Turn</td>\n",
       "    </tr>\n",
       "    <tr>\n",
       "      <th>4</th>\n",
       "      <td>0.438</td>\n",
       "      <td>0.498</td>\n",
       "      <td>3.626</td>\n",
       "      <td>3.629</td>\n",
       "      <td>5.0</td>\n",
       "      <td>2.918</td>\n",
       "      <td>5.0</td>\n",
       "      <td>2.640</td>\n",
       "      <td>2.334</td>\n",
       "      <td>2.639</td>\n",
       "      <td>...</td>\n",
       "      <td>0.592</td>\n",
       "      <td>0.502</td>\n",
       "      <td>0.493</td>\n",
       "      <td>0.504</td>\n",
       "      <td>0.449</td>\n",
       "      <td>0.431</td>\n",
       "      <td>0.444</td>\n",
       "      <td>0.441</td>\n",
       "      <td>0.429</td>\n",
       "      <td>Slight-Right-Turn</td>\n",
       "    </tr>\n",
       "  </tbody>\n",
       "</table>\n",
       "<p>5 rows × 25 columns</p>\n",
       "</div>"
      ],
      "text/plain": [
       "      0      1      2      3    4      5    6      7      8      9   ...  \\\n",
       "0  0.438  0.498  3.625  3.645  5.0  2.918  5.0  2.351  2.332  2.643  ...   \n",
       "1  0.438  0.498  3.625  3.648  5.0  2.918  5.0  2.637  2.332  2.649  ...   \n",
       "2  0.438  0.498  3.625  3.629  5.0  2.918  5.0  2.637  2.334  2.643  ...   \n",
       "3  0.437  0.501  3.625  3.626  5.0  2.918  5.0  2.353  2.334  2.642  ...   \n",
       "4  0.438  0.498  3.626  3.629  5.0  2.918  5.0  2.640  2.334  2.639  ...   \n",
       "\n",
       "      15     16     17     18     19     20     21     22     23  \\\n",
       "0  0.593  0.502  0.493  0.504  0.445  0.431  0.444  0.440  0.429   \n",
       "1  0.592  0.502  0.493  0.504  0.449  0.431  0.444  0.443  0.429   \n",
       "2  0.593  0.502  0.493  0.504  0.449  0.431  0.444  0.446  0.429   \n",
       "3  0.593  0.502  0.493  0.504  0.449  0.431  0.444  0.444  0.429   \n",
       "4  0.592  0.502  0.493  0.504  0.449  0.431  0.444  0.441  0.429   \n",
       "\n",
       "                  24  \n",
       "0  Slight-Right-Turn  \n",
       "1  Slight-Right-Turn  \n",
       "2  Slight-Right-Turn  \n",
       "3  Slight-Right-Turn  \n",
       "4  Slight-Right-Turn  \n",
       "\n",
       "[5 rows x 25 columns]"
      ]
     },
     "execution_count": 2,
     "metadata": {},
     "output_type": "execute_result"
    }
   ],
   "source": [
    "file = 'sensor_readings_24.data'\n",
    "data = pd.read_csv(file, header=None)\n",
    "data_no_label = data.iloc[:, :-1]\n",
    "labels = data.iloc[:, -1]\n",
    "print(data.shape)\n",
    "#print(labels)\n",
    "data.head()"
   ]
  },
  {
   "cell_type": "markdown",
   "id": "4ef6b105-410a-471e-a625-39ac9baf1e40",
   "metadata": {},
   "source": [
    "# QUESTÃO 1: Usando o conjunto original para 24 sensores de ultrassom. Pede-se:"
   ]
  },
  {
   "cell_type": "markdown",
   "id": "eb3edbbf-da23-4d0e-8f87-e8d4b24cf898",
   "metadata": {},
   "source": [
    "### 1.1. Identificar para o problema em questão o número de classes, o número de instâncias/exemplos de cada classe, e a dimensão do vetor de atributos."
   ]
  },
  {
   "cell_type": "code",
   "execution_count": 3,
   "id": "d103f7f5-ec57-4503-9c5b-f4773f1a4d13",
   "metadata": {},
   "outputs": [
    {
     "data": {
      "text/plain": [
       "24\n",
       "Move-Forward         2205\n",
       "Sharp-Right-Turn     2097\n",
       "Slight-Right-Turn     826\n",
       "Slight-Left-Turn      328\n",
       "Name: count, dtype: int64"
      ]
     },
     "execution_count": 3,
     "metadata": {},
     "output_type": "execute_result"
    }
   ],
   "source": [
    "label = data.iloc[:, -1]\n",
    "classes = label.value_counts()\n",
    "classes"
   ]
  },
  {
   "cell_type": "raw",
   "id": "6cfac117-6f80-439a-9094-d3e61cee06f8",
   "metadata": {},
   "source": [
    "Número de classes: 4\n",
    "Número de instâncias/exemplos:\n",
    "    Move-Forward         2205\n",
    "    Sharp-Right-Turn     2097\n",
    "    Slight-Right-Turn     826\n",
    "    Slight-Left-Turn      328\n",
    "Dimensão do vetor de atributos: 24"
   ]
  },
  {
   "cell_type": "markdown",
   "id": "18435105-a251-44bb-ae69-f4666ed71340",
   "metadata": {},
   "source": [
    "### 1.2. Verificar se as matrizes de covariância das classes são invertíveis ou não."
   ]
  },
  {
   "cell_type": "code",
   "execution_count": 4,
   "id": "b24b6026-6036-4230-bbcf-bea6b50f12e3",
   "metadata": {},
   "outputs": [
    {
     "name": "stdout",
     "output_type": "stream",
     "text": [
      "(24, 24)\n",
      "O posto da matriz é: 24\n"
     ]
    }
   ],
   "source": [
    "cov = np.cov(data_no_label, rowvar=False)\n",
    "print(cov.shape)\n",
    "\n",
    "rank = np.linalg.matrix_rank(cov)\n",
    "print(\"O posto da matriz é:\", rank)"
   ]
  },
  {
   "cell_type": "raw",
   "id": "c117a82d-b468-437e-91e4-f850cd87e44c",
   "metadata": {},
   "source": [
    "Considerando que o posto é igual ao número de features (posto completo), a matriz é invertível."
   ]
  },
  {
   "cell_type": "markdown",
   "id": "2b47ac26-d950-408a-b6f8-c3ec9bf44369",
   "metadata": {},
   "source": [
    "### 1.3. Implementar e avaliar os seguintes 4 classificadores: classificador quadrático gaussiano (CQG), Variante 2 (CQG-V2), Variante 4 (CQG-V4) e Classificador Linear de Mínimos Quadrados (CLMQ). Preencher a tabela abaixo após Nr = 100 rodadas de treinamento/teste. Comente os resultados obtidos."
   ]
  },
  {
   "cell_type": "code",
   "execution_count": null,
   "id": "86964929-911a-4f89-827d-258ec42879f6",
   "metadata": {},
   "outputs": [],
   "source": []
  },
  {
   "cell_type": "markdown",
   "id": "740755b2-7598-41fc-89a7-14dca90a4589",
   "metadata": {},
   "source": [
    "# QUESTÃO 2: Aplicar PCA ao conjunto original de 24 sensores. Pede-se:"
   ]
  },
  {
   "cell_type": "markdown",
   "id": "06601f8b-9f83-4c04-b54b-d8f2b3f3cd20",
   "metadata": {},
   "source": [
    "### 2.1. Determinar o número de componentes (q) adequado para o problema, ou seja, que promova uma redução de dimensão dos vetores de atributo sem piorar o desempenho dos classificadores implementados. Mostre o gráfico da variância explicada VE(q)."
   ]
  },
  {
   "cell_type": "code",
   "execution_count": 5,
   "id": "cde93ed3-26e3-4a68-9bf2-c7ee32445b2f",
   "metadata": {},
   "outputs": [
    {
     "data": {
      "image/png": "[encoded data removed]",
      "text/plain": [
       "<Figure size 720x432 with 1 Axes>"
      ]
     },
     "metadata": {
      "needs_background": "light"
     },
     "output_type": "display_data"
    }
   ],
   "source": [
    "X_train, X_test, y_train, y_test = train_test_split(data_no_label, labels, test_size=0.2, random_state=42)\n",
    "\n",
    "scaler = StandardScaler()\n",
    "X_train_std = scaler.fit_transform(X_train)\n",
    "\n",
    "# Aplicar PCA\n",
    "pca = PCA()\n",
    "X_train_pca = pca.fit_transform(X_train_std)\n",
    "\n",
    "# Determinar o número adequado de componentes\n",
    "variance_explained = np.cumsum(pca.explained_variance_ratio_)\n",
    "\n",
    "# Plotar a variância explicada em função do número de componentes\n",
    "plt.figure(figsize=(10, 6))\n",
    "plt.plot(range(1, len(variance_explained) + 1), variance_explained, marker='o', linestyle='-', color='b')\n",
    "plt.title('Variância Explicada em Função do Número de Componentes')\n",
    "plt.xlabel('Número de Componentes')\n",
    "plt.ylabel('Variância Explicada Cumulativa')\n",
    "plt.grid(True)\n",
    "plt.show()"
   ]
  }
 ],
 "metadata": {
  "kernelspec": {
   "display_name": "Python 3",
   "language": "python",
   "name": "python3"
  },
  "language_info": {
   "codemirror_mode": {
    "name": "ipython",
    "version": 3
   },
   "file_extension": ".py",
   "mimetype": "text/x-python",
   "name": "python",
   "nbconvert_exporter": "python",
   "pygments_lexer": "ipython3",
   "version": "3.8.2"
  }
 },
 "nbformat": 4,
 "nbformat_minor": 5
}
