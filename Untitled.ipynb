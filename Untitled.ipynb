{
 "cells": [
  {
   "cell_type": "code",
   "execution_count": 20,
   "id": "c98a0c83-ac27-4a50-b971-a23754d7ed1c",
   "metadata": {},
   "outputs": [
    {
     "name": "stdout",
     "output_type": "stream",
     "text": [
      "Shape of array:\n",
      " (3, 3)\n",
      "Covarinace matrix of x:\n",
      " [[4.33333333 2.83333333 2.        ]\n",
      " [2.83333333 2.33333333 1.5       ]\n",
      " [2.         1.5        1.        ]]\n"
     ]
    }
   ],
   "source": [
    "import numpy as np  \n",
    "x = np.array([[0, 3, 4], [1, 2, 4], [3, 4, 5]])  \n",
    "print(\"Shape of array:\\n\", np.shape(x)) \n",
    "print(\"Covarinace matrix of x:\\n\", np.cov(x)) "
   ]
  },
  {
   "cell_type": "code",
   "execution_count": 21,
   "id": "47c64dad-ff32-40ac-a1c4-132194fd4490",
   "metadata": {},
   "outputs": [
    {
     "name": "stdout",
     "output_type": "stream",
     "text": [
      "[[ 0.59259259 -0.         -0.18518519]\n",
      " [-0.          0.33333333 -0.11111111]\n",
      " [-0.18518519 -0.11111111  0.14814815]]\n"
     ]
    }
   ],
   "source": [
    "# Calcular a média de cada variável\n",
    "mean_vector = np.mean(x, axis=0)\n",
    "# Centralizando os dados\n",
    "centered_data = x - mean_vector\n",
    "c = (centered_data * centered_data.T) / N\n",
    "print(c)"
   ]
  }
 ],
 "metadata": {
  "kernelspec": {
   "display_name": "Python 3",
   "language": "python",
   "name": "python3"
  },
  "language_info": {
   "codemirror_mode": {
    "name": "ipython",
    "version": 3
   },
   "file_extension": ".py",
   "mimetype": "text/x-python",
   "name": "python",
   "nbconvert_exporter": "python",
   "pygments_lexer": "ipython3",
   "version": "3.8.2"
  }
 },
 "nbformat": 4,
 "nbformat_minor": 5
}
