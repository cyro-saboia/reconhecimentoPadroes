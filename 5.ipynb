{
 "cells": [
  {
   "cell_type": "code",
   "execution_count": 1,
   "id": "275a30df-8c2f-4e20-885a-d261d9c756b8",
   "metadata": {},
   "outputs": [],
   "source": [
    "import pandas as pd\n",
    "import numpy as np"
   ]
  },
  {
   "cell_type": "code",
   "execution_count": 2,
   "id": "a5d16468-a0fa-4a64-8865-ae3b0031940b",
   "metadata": {},
   "outputs": [
    {
     "name": "stdout",
     "output_type": "stream",
     "text": [
      "(351, 34)\n"
     ]
    }
   ],
   "source": [
    "file = 'ionosphere.data'\n",
    "data = pd.read_csv(file, header=None)\n",
    "# removendo a ultima coluna dos dados\n",
    "# The 35th attribute is either \"good\" or \"bad\" according to the definition summarized above.  This is a binary classification task.\n",
    "data = data.iloc[:, :-1]\n",
    "#data = np.random.rand(30, 5)\n",
    "print(data.shape)"
   ]
  },
  {
   "cell_type": "code",
   "execution_count": 3,
   "id": "97e97a96-023c-4969-9f29-f8941fd2dd39",
   "metadata": {},
   "outputs": [
    {
     "name": "stdout",
     "output_type": "stream",
     "text": [
      "(34,)\n"
     ]
    }
   ],
   "source": [
    "# Calcular a média de cada variável\n",
    "mean_vector = np.mean(data, axis=0)\n",
    "print(mean_vector.shape)"
   ]
  },
  {
   "cell_type": "code",
   "execution_count": 4,
   "id": "07d7fbce-cc03-4bb1-82c5-6005cae0bfd1",
   "metadata": {},
   "outputs": [],
   "source": [
    "# Centralizando os dados\n",
    "centered_data = data - mean_vector\n",
    "#print(centered_data)"
   ]
  },
  {
   "cell_type": "markdown",
   "id": "fe592502-ca0b-4dc1-8244-6fe1b9970a93",
   "metadata": {},
   "source": [
    "## Variante 1"
   ]
  },
  {
   "cell_type": "code",
   "execution_count": 5,
   "id": "832d7035-7d69-4807-a28d-17e19ed66c01",
   "metadata": {},
   "outputs": [],
   "source": [
    "# 2. Calcule a matriz identidade ponderada\n",
    "lambda_value = 0.1  # Ruído\n",
    "identity_matrix = np.eye(centered_data.shape[1]) #  cria uma matriz identidade de dimensões centered_data.shape[1]\n",
    "regularization_matrix = lambda_value * identity_matrix"
   ]
  },
  {
   "cell_type": "code",
   "execution_count": 6,
   "id": "7f98bda3-b2bb-481d-b09b-e27ea8156400",
   "metadata": {},
   "outputs": [],
   "source": [
    "N = data.shape[0]\n",
    "#print(N)\n",
    "c = (centered_data.T @ centered_data) / N\n",
    "#print(c)"
   ]
  },
  {
   "cell_type": "code",
   "execution_count": 7,
   "id": "297c480b-b752-4642-bde6-803405a1da46",
   "metadata": {},
   "outputs": [
    {
     "name": "stdout",
     "output_type": "stream",
     "text": [
      "O posto da matriz é: 33\n"
     ]
    }
   ],
   "source": [
    "rank = np.linalg.matrix_rank(c)\n",
    "print(\"O posto da matriz é:\", rank)"
   ]
  },
  {
   "cell_type": "markdown",
   "id": "16ede1ba-e868-4a56-8ca6-f6a53d8796fc",
   "metadata": {},
   "source": [
    "Considerando que o posto da matriz não é completo (33),a matriz não é invertível, conforme tentativa abaixo."
   ]
  },
  {
   "cell_type": "code",
   "execution_count": 8,
   "id": "7bacbf2f-7b3e-4812-add8-c0e901527ebf",
   "metadata": {},
   "outputs": [
    {
     "ename": "LinAlgError",
     "evalue": "Singular matrix",
     "output_type": "error",
     "traceback": [
      "\u001b[1;31m---------------------------------------------------------------------------\u001b[0m",
      "\u001b[1;31mLinAlgError\u001b[0m                               Traceback (most recent call last)",
      "Cell \u001b[1;32mIn[8], line 2\u001b[0m\n\u001b[0;32m      1\u001b[0m \u001b[38;5;66;03m# Calcule a inversa da matriz de covariância regularizada\u001b[39;00m\n\u001b[1;32m----> 2\u001b[0m inverse_matrix \u001b[38;5;241m=\u001b[39m \u001b[43mnp\u001b[49m\u001b[38;5;241;43m.\u001b[39;49m\u001b[43mlinalg\u001b[49m\u001b[38;5;241;43m.\u001b[39;49m\u001b[43minv\u001b[49m\u001b[43m(\u001b[49m\u001b[43mc\u001b[49m\u001b[43m)\u001b[49m\n",
      "File \u001b[1;32m<__array_function__ internals>:200\u001b[0m, in \u001b[0;36minv\u001b[1;34m(*args, **kwargs)\u001b[0m\n",
      "File \u001b[1;32m~\\AppData\\Local\\Programs\\Python\\Python38\\lib\\site-packages\\numpy\\linalg\\linalg.py:538\u001b[0m, in \u001b[0;36minv\u001b[1;34m(a)\u001b[0m\n\u001b[0;32m    536\u001b[0m signature \u001b[38;5;241m=\u001b[39m \u001b[38;5;124m'\u001b[39m\u001b[38;5;124mD->D\u001b[39m\u001b[38;5;124m'\u001b[39m \u001b[38;5;28;01mif\u001b[39;00m isComplexType(t) \u001b[38;5;28;01melse\u001b[39;00m \u001b[38;5;124m'\u001b[39m\u001b[38;5;124md->d\u001b[39m\u001b[38;5;124m'\u001b[39m\n\u001b[0;32m    537\u001b[0m extobj \u001b[38;5;241m=\u001b[39m get_linalg_error_extobj(_raise_linalgerror_singular)\n\u001b[1;32m--> 538\u001b[0m ainv \u001b[38;5;241m=\u001b[39m \u001b[43m_umath_linalg\u001b[49m\u001b[38;5;241;43m.\u001b[39;49m\u001b[43minv\u001b[49m\u001b[43m(\u001b[49m\u001b[43ma\u001b[49m\u001b[43m,\u001b[49m\u001b[43m \u001b[49m\u001b[43msignature\u001b[49m\u001b[38;5;241;43m=\u001b[39;49m\u001b[43msignature\u001b[49m\u001b[43m,\u001b[49m\u001b[43m \u001b[49m\u001b[43mextobj\u001b[49m\u001b[38;5;241;43m=\u001b[39;49m\u001b[43mextobj\u001b[49m\u001b[43m)\u001b[49m\n\u001b[0;32m    539\u001b[0m \u001b[38;5;28;01mreturn\u001b[39;00m wrap(ainv\u001b[38;5;241m.\u001b[39mastype(result_t, copy\u001b[38;5;241m=\u001b[39m\u001b[38;5;28;01mFalse\u001b[39;00m))\n",
      "File \u001b[1;32m~\\AppData\\Local\\Programs\\Python\\Python38\\lib\\site-packages\\numpy\\linalg\\linalg.py:89\u001b[0m, in \u001b[0;36m_raise_linalgerror_singular\u001b[1;34m(err, flag)\u001b[0m\n\u001b[0;32m     88\u001b[0m \u001b[38;5;28;01mdef\u001b[39;00m \u001b[38;5;21m_raise_linalgerror_singular\u001b[39m(err, flag):\n\u001b[1;32m---> 89\u001b[0m     \u001b[38;5;28;01mraise\u001b[39;00m LinAlgError(\u001b[38;5;124m\"\u001b[39m\u001b[38;5;124mSingular matrix\u001b[39m\u001b[38;5;124m\"\u001b[39m)\n",
      "\u001b[1;31mLinAlgError\u001b[0m: Singular matrix"
     ]
    }
   ],
   "source": [
    "# Calcule a inversa da matriz de covariância regularizada\n",
    "inverse_matrix = np.linalg.inv(c)"
   ]
  },
  {
   "cell_type": "code",
   "execution_count": 9,
   "id": "180c3351-bc55-423d-909c-143694ddcfd1",
   "metadata": {},
   "outputs": [],
   "source": [
    "# 3. Calcule a matriz de covariância regularizada\n",
    "regularized_cov_matrix = c + regularization_matrix"
   ]
  },
  {
   "cell_type": "code",
   "execution_count": 10,
   "id": "fc415665-7ca1-41e6-b53f-6b8616201151",
   "metadata": {},
   "outputs": [
    {
     "name": "stdout",
     "output_type": "stream",
     "text": [
      "O posto da matriz é: 34\n"
     ]
    }
   ],
   "source": [
    "rank = np.linalg.matrix_rank(regularized_cov_matrix)\n",
    "print(\"O posto da matriz é:\", rank)"
   ]
  },
  {
   "cell_type": "code",
   "execution_count": 11,
   "id": "66f47c4a-311e-4464-9fb2-f3eeffa32343",
   "metadata": {},
   "outputs": [
    {
     "data": {
      "text/plain": [
       "(34, 34)"
      ]
     },
     "execution_count": 11,
     "metadata": {},
     "output_type": "execute_result"
    }
   ],
   "source": [
    "# Calcule a inversa da matriz de covariância regularizada\n",
    "inverse_matrix = np.linalg.inv(regularized_cov_matrix)\n",
    "inverse_matrix.shape"
   ]
  },
  {
   "cell_type": "code",
   "execution_count": 12,
   "id": "e9b898e1-859a-44f9-821d-b7c643b251d8",
   "metadata": {},
   "outputs": [
    {
     "data": {
      "text/plain": [
       "(34, 34)"
      ]
     },
     "execution_count": 12,
     "metadata": {},
     "output_type": "execute_result"
    }
   ],
   "source": [
    "# Calcula a SVD da matriz de covariância regularizada\n",
    "U, S, VT = np.linalg.svd(regularized_cov_matrix)\n",
    "\n",
    "# Inverte a matriz diagonal de autovalores (S)\n",
    "inverse_S = 1.0 / S\n",
    "\n",
    "# Calcula a matriz de covariância invertida\n",
    "inverse_regularized_cov_matrix = np.dot(U, np.dot(np.diag(inverse_S), VT))\n",
    "inverse_regularized_cov_matrix.shape"
   ]
  }
 ],
 "metadata": {
  "kernelspec": {
   "display_name": "Python 3",
   "language": "python",
   "name": "python3"
  },
  "language_info": {
   "codemirror_mode": {
    "name": "ipython",
    "version": 3
   },
   "file_extension": ".py",
   "mimetype": "text/x-python",
   "name": "python",
   "nbconvert_exporter": "python",
   "pygments_lexer": "ipython3",
   "version": "3.8.2"
  }
 },
 "nbformat": 4,
 "nbformat_minor": 5
}
