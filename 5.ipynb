{
 "cells": [
  {
   "cell_type": "code",
   "execution_count": 1,
   "id": "275a30df-8c2f-4e20-885a-d261d9c756b8",
   "metadata": {},
   "outputs": [],
   "source": [
    "import pandas as pd\n",
    "import numpy as np"
   ]
  },
  {
   "cell_type": "code",
   "execution_count": 2,
   "id": "a5d16468-a0fa-4a64-8865-ae3b0031940b",
   "metadata": {},
   "outputs": [
    {
     "name": "stdout",
     "output_type": "stream",
     "text": [
      "(351, 34)\n"
     ]
    }
   ],
   "source": [
    "file = 'ionosphere.data'\n",
    "data = pd.read_csv(file, header=None)\n",
    "# removendo a ultima coluna dos dados\n",
    "# The 35th attribute is either \"good\" or \"bad\" according to the definition summarized above.  This is a binary classification task.\n",
    "data = data.iloc[:, :-1]\n",
    "#data = np.random.rand(30, 5)\n",
    "print(data.shape)"
   ]
  },
  {
   "cell_type": "code",
   "execution_count": 3,
   "id": "97e97a96-023c-4969-9f29-f8941fd2dd39",
   "metadata": {},
   "outputs": [
    {
     "name": "stdout",
     "output_type": "stream",
     "text": [
      "(34,)\n"
     ]
    }
   ],
   "source": [
    "# Calcular a média de cada variável\n",
    "mean_vector = np.mean(data, axis=0)\n",
    "print(mean_vector.shape)"
   ]
  },
  {
   "cell_type": "code",
   "execution_count": 4,
   "id": "07d7fbce-cc03-4bb1-82c5-6005cae0bfd1",
   "metadata": {},
   "outputs": [],
   "source": [
    "# Centralizando os dados\n",
    "centered_data = data - mean_vector\n",
    "#print(centered_data)"
   ]
  },
  {
   "cell_type": "code",
   "execution_count": 5,
   "id": "41d02c13-39c2-4b4b-8dc1-a81cc3a80350",
   "metadata": {},
   "outputs": [],
   "source": [
    "N = data.shape[0]\n",
    "#print(N)\n",
    "c = (centered_data.T @ centered_data) / N\n",
    "#print(c)"
   ]
  },
  {
   "cell_type": "code",
   "execution_count": 6,
   "id": "284d634b-8291-46ea-8028-92efd692f17b",
   "metadata": {},
   "outputs": [
    {
     "name": "stdout",
     "output_type": "stream",
     "text": [
      "O posto da matriz é: 33\n"
     ]
    }
   ],
   "source": [
    "rank = np.linalg.matrix_rank(c)\n",
    "print(\"O posto da matriz é:\", rank)"
   ]
  },
  {
   "cell_type": "raw",
   "id": "140a8f71-02d0-411b-8d56-8156afc2d50d",
   "metadata": {},
   "source": [
    "Considerando que o posto da matriz não é completo (33),a matriz não é invertível, conforme tentativa abaixo.\n"
   ]
  },
  {
   "cell_type": "code",
   "execution_count": 7,
   "id": "3d8c7a97-3561-4c61-b010-26064c3f36c5",
   "metadata": {},
   "outputs": [
    {
     "ename": "LinAlgError",
     "evalue": "Singular matrix",
     "output_type": "error",
     "traceback": [
      "\u001b[1;31m---------------------------------------------------------------------------\u001b[0m",
      "\u001b[1;31mLinAlgError\u001b[0m                               Traceback (most recent call last)",
      "\u001b[1;32m<ipython-input-7-5df52234e4fa>\u001b[0m in \u001b[0;36m<module>\u001b[1;34m\u001b[0m\n\u001b[0;32m      1\u001b[0m \u001b[1;31m# Calcule a inversa da matriz de covariância regularizada\u001b[0m\u001b[1;33m\u001b[0m\u001b[1;33m\u001b[0m\u001b[1;33m\u001b[0m\u001b[0m\n\u001b[1;32m----> 2\u001b[1;33m \u001b[0minverse_matrix\u001b[0m \u001b[1;33m=\u001b[0m \u001b[0mnp\u001b[0m\u001b[1;33m.\u001b[0m\u001b[0mlinalg\u001b[0m\u001b[1;33m.\u001b[0m\u001b[0minv\u001b[0m\u001b[1;33m(\u001b[0m\u001b[0mc\u001b[0m\u001b[1;33m)\u001b[0m\u001b[1;33m\u001b[0m\u001b[1;33m\u001b[0m\u001b[0m\n\u001b[0m",
      "\u001b[1;32m~\\AppData\\Local\\Programs\\Python\\Python38\\lib\\site-packages\\numpy\\core\\overrides.py\u001b[0m in \u001b[0;36minv\u001b[1;34m(*args, **kwargs)\u001b[0m\n",
      "\u001b[1;32m~\\AppData\\Local\\Programs\\Python\\Python38\\lib\\site-packages\\numpy\\linalg\\linalg.py\u001b[0m in \u001b[0;36minv\u001b[1;34m(a)\u001b[0m\n\u001b[0;32m    543\u001b[0m     \u001b[0msignature\u001b[0m \u001b[1;33m=\u001b[0m \u001b[1;34m'D->D'\u001b[0m \u001b[1;32mif\u001b[0m \u001b[0misComplexType\u001b[0m\u001b[1;33m(\u001b[0m\u001b[0mt\u001b[0m\u001b[1;33m)\u001b[0m \u001b[1;32melse\u001b[0m \u001b[1;34m'd->d'\u001b[0m\u001b[1;33m\u001b[0m\u001b[1;33m\u001b[0m\u001b[0m\n\u001b[0;32m    544\u001b[0m     \u001b[0mextobj\u001b[0m \u001b[1;33m=\u001b[0m \u001b[0mget_linalg_error_extobj\u001b[0m\u001b[1;33m(\u001b[0m\u001b[0m_raise_linalgerror_singular\u001b[0m\u001b[1;33m)\u001b[0m\u001b[1;33m\u001b[0m\u001b[1;33m\u001b[0m\u001b[0m\n\u001b[1;32m--> 545\u001b[1;33m     \u001b[0mainv\u001b[0m \u001b[1;33m=\u001b[0m \u001b[0m_umath_linalg\u001b[0m\u001b[1;33m.\u001b[0m\u001b[0minv\u001b[0m\u001b[1;33m(\u001b[0m\u001b[0ma\u001b[0m\u001b[1;33m,\u001b[0m \u001b[0msignature\u001b[0m\u001b[1;33m=\u001b[0m\u001b[0msignature\u001b[0m\u001b[1;33m,\u001b[0m \u001b[0mextobj\u001b[0m\u001b[1;33m=\u001b[0m\u001b[0mextobj\u001b[0m\u001b[1;33m)\u001b[0m\u001b[1;33m\u001b[0m\u001b[1;33m\u001b[0m\u001b[0m\n\u001b[0m\u001b[0;32m    546\u001b[0m     \u001b[1;32mreturn\u001b[0m \u001b[0mwrap\u001b[0m\u001b[1;33m(\u001b[0m\u001b[0mainv\u001b[0m\u001b[1;33m.\u001b[0m\u001b[0mastype\u001b[0m\u001b[1;33m(\u001b[0m\u001b[0mresult_t\u001b[0m\u001b[1;33m,\u001b[0m \u001b[0mcopy\u001b[0m\u001b[1;33m=\u001b[0m\u001b[1;32mFalse\u001b[0m\u001b[1;33m)\u001b[0m\u001b[1;33m)\u001b[0m\u001b[1;33m\u001b[0m\u001b[1;33m\u001b[0m\u001b[0m\n\u001b[0;32m    547\u001b[0m \u001b[1;33m\u001b[0m\u001b[0m\n",
      "\u001b[1;32m~\\AppData\\Local\\Programs\\Python\\Python38\\lib\\site-packages\\numpy\\linalg\\linalg.py\u001b[0m in \u001b[0;36m_raise_linalgerror_singular\u001b[1;34m(err, flag)\u001b[0m\n\u001b[0;32m     86\u001b[0m \u001b[1;33m\u001b[0m\u001b[0m\n\u001b[0;32m     87\u001b[0m \u001b[1;32mdef\u001b[0m \u001b[0m_raise_linalgerror_singular\u001b[0m\u001b[1;33m(\u001b[0m\u001b[0merr\u001b[0m\u001b[1;33m,\u001b[0m \u001b[0mflag\u001b[0m\u001b[1;33m)\u001b[0m\u001b[1;33m:\u001b[0m\u001b[1;33m\u001b[0m\u001b[1;33m\u001b[0m\u001b[0m\n\u001b[1;32m---> 88\u001b[1;33m     \u001b[1;32mraise\u001b[0m \u001b[0mLinAlgError\u001b[0m\u001b[1;33m(\u001b[0m\u001b[1;34m\"Singular matrix\"\u001b[0m\u001b[1;33m)\u001b[0m\u001b[1;33m\u001b[0m\u001b[1;33m\u001b[0m\u001b[0m\n\u001b[0m\u001b[0;32m     89\u001b[0m \u001b[1;33m\u001b[0m\u001b[0m\n\u001b[0;32m     90\u001b[0m \u001b[1;32mdef\u001b[0m \u001b[0m_raise_linalgerror_nonposdef\u001b[0m\u001b[1;33m(\u001b[0m\u001b[0merr\u001b[0m\u001b[1;33m,\u001b[0m \u001b[0mflag\u001b[0m\u001b[1;33m)\u001b[0m\u001b[1;33m:\u001b[0m\u001b[1;33m\u001b[0m\u001b[1;33m\u001b[0m\u001b[0m\n",
      "\u001b[1;31mLinAlgError\u001b[0m: Singular matrix"
     ]
    }
   ],
   "source": [
    "# Calcule a inversa da matriz de covariância regularizada\n",
    "inverse_matrix = np.linalg.inv(c)"
   ]
  },
  {
   "cell_type": "markdown",
   "id": "fe592502-ca0b-4dc1-8244-6fe1b9970a93",
   "metadata": {},
   "source": [
    "## Utilizaremos a técnica Variante 1 discutida em sala de aula e disponibilizada no pdf das aulas"
   ]
  },
  {
   "cell_type": "code",
   "execution_count": 8,
   "id": "832d7035-7d69-4807-a28d-17e19ed66c01",
   "metadata": {},
   "outputs": [],
   "source": [
    "# Ruído\n",
    "lambda_value = 0.1\n",
    "#  cria uma matriz identidade de dimensões centered_data.shape[1]\n",
    "identity_matrix = np.eye(centered_data.shape[1])\n",
    "# criando matriz de regularização\n",
    "regularization_matrix = lambda_value * identity_matrix"
   ]
  },
  {
   "cell_type": "code",
   "execution_count": 9,
   "id": "180c3351-bc55-423d-909c-143694ddcfd1",
   "metadata": {},
   "outputs": [],
   "source": [
    "# Calculando a matriz de covariância regularizada adicionando ruído à matriz diagonal, tornando-a diagonalmente dominante.\n",
    "regularized_cov_matrix = c + regularization_matrix"
   ]
  },
  {
   "cell_type": "code",
   "execution_count": 10,
   "id": "fc415665-7ca1-41e6-b53f-6b8616201151",
   "metadata": {},
   "outputs": [
    {
     "name": "stdout",
     "output_type": "stream",
     "text": [
      "O posto da matriz é: 34\n"
     ]
    }
   ],
   "source": [
    "rank = np.linalg.matrix_rank(regularized_cov_matrix)\n",
    "print(\"O posto da matriz é:\", rank)"
   ]
  },
  {
   "cell_type": "code",
   "execution_count": 11,
   "id": "66f47c4a-311e-4464-9fb2-f3eeffa32343",
   "metadata": {},
   "outputs": [
    {
     "data": {
      "text/plain": [
       "(34, 34)"
      ]
     },
     "execution_count": 11,
     "metadata": {},
     "output_type": "execute_result"
    }
   ],
   "source": [
    "# Calculando a inversa da matriz de covariância regularizada\n",
    "inverse_matrix = np.linalg.inv(regularized_cov_matrix)\n",
    "inverse_matrix.shape"
   ]
  },
  {
   "cell_type": "code",
   "execution_count": 13,
   "id": "e9b898e1-859a-44f9-821d-b7c643b251d8",
   "metadata": {},
   "outputs": [
    {
     "data": {
      "text/plain": [
       "array([[ 5.96105835e+00,  5.43548647e-16, -5.92826603e-01, ...,\n",
       "         3.03878435e-01, -5.42712642e-02, -1.72631011e-01],\n",
       "       [ 5.24289188e-15,  1.00000000e+01, -4.39183339e-15, ...,\n",
       "        -7.53459793e-16, -5.50741269e-15,  7.82858706e-16],\n",
       "       [-5.92826603e-01, -8.33362997e-17,  4.26007809e+00, ...,\n",
       "         7.65138936e-02,  2.23571344e-02,  3.44410952e-02],\n",
       "       ...,\n",
       "       [ 3.03878435e-01,  3.17589996e-15,  7.65138936e-02, ...,\n",
       "         4.14401761e+00, -9.09773041e-02, -9.31521797e-01],\n",
       "       [-5.42712642e-02, -4.75588339e-15,  2.23571344e-02, ...,\n",
       "        -9.09773041e-02,  5.09073178e+00,  3.67585216e-01],\n",
       "       [-1.72631011e-01, -3.26955175e-15,  3.44410952e-02, ...,\n",
       "        -9.31521797e-01,  3.67585216e-01,  4.44298608e+00]])"
      ]
     },
     "execution_count": 13,
     "metadata": {},
     "output_type": "execute_result"
    }
   ],
   "source": [
    "# Calculando a SVD da matriz de covariância regularizada\n",
    "U, S, VT = np.linalg.svd(regularized_cov_matrix)\n",
    "\n",
    "# Inverte a matriz diagonal de autovalores (S)\n",
    "inverse_S = 1.0 / S\n",
    "\n",
    "# Calcula a matriz de covariância invertida\n",
    "inverse_regularized_cov_matrix = np.dot(U, np.dot(np.diag(inverse_S), VT))\n",
    "inverse_regularized_cov_matrix"
   ]
  }
 ],
 "metadata": {
  "kernelspec": {
   "display_name": "Python 3",
   "language": "python",
   "name": "python3"
  },
  "language_info": {
   "codemirror_mode": {
    "name": "ipython",
    "version": 3
   },
   "file_extension": ".py",
   "mimetype": "text/x-python",
   "name": "python",
   "nbconvert_exporter": "python",
   "pygments_lexer": "ipython3",
   "version": "3.8.2"
  }
 },
 "nbformat": 4,
 "nbformat_minor": 5
}
