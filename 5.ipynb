{
 "cells": [
  {
   "cell_type": "code",
   "execution_count": null,
   "id": "275a30df-8c2f-4e20-885a-d261d9c756b8",
   "metadata": {},
   "outputs": [],
   "source": [
    "import numpy as np"
   ]
  },
  {
   "cell_type": "code",
   "execution_count": null,
   "id": "a5d16468-a0fa-4a64-8865-ae3b0031940b",
   "metadata": {},
   "outputs": [],
   "source": []
  },
  {
   "cell_type": "code",
   "execution_count": null,
   "id": "fa10ed63-1de4-4cc9-9d79-200d77f34d3d",
   "metadata": {},
   "outputs": [],
   "source": [
    "\n",
    "# Suponha que 'cov_matrix' seja a sua matriz de covariância original\n",
    "lambda_value = 0.1  # Valor de λ (ajuste conforme necessário)\n",
    "\n",
    "# Adicione λ * matriz identidade à matriz de covariância\n",
    "regularized_cov_matrix = cov_matrix + lambda_value * np.identity(cov_matrix.shape[0])\n",
    "\n",
    "# Agora 'regularized_cov_matrix' é a matriz de covariância regularizada\n",
    "\n",
    "# Exemplo: Calculando o número de condicionamento da matriz regularizada\n",
    "condicao = np.linalg.cond(regularized_cov_matrix)\n",
    "print(\"Número de condicionamento da matriz regularizada é:\", condicao)"
   ]
  }
 ],
 "metadata": {
  "kernelspec": {
   "display_name": "Python 3",
   "language": "python",
   "name": "python3"
  },
  "language_info": {
   "codemirror_mode": {
    "name": "ipython",
    "version": 3
   },
   "file_extension": ".py",
   "mimetype": "text/x-python",
   "name": "python",
   "nbconvert_exporter": "python",
   "pygments_lexer": "ipython3",
   "version": "3.8.2"
  }
 },
 "nbformat": 4,
 "nbformat_minor": 5
}
