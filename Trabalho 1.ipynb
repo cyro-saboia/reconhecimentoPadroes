{
 "cells": [
  {
   "cell_type": "code",
   "execution_count": 1,
   "id": "1c2c6290-c107-46af-a9e5-52cf8ca5be58",
   "metadata": {},
   "outputs": [],
   "source": [
    "import pandas as pd\n",
    "import numpy as np"
   ]
  },
  {
   "cell_type": "code",
   "execution_count": 2,
   "id": "f85bcade-5924-4ca8-a3a1-e9f33cea9b96",
   "metadata": {},
   "outputs": [
    {
     "name": "stdout",
     "output_type": "stream",
     "text": [
      "(351, 35)\n"
     ]
    }
   ],
   "source": [
    "file = 'ionosphere.data'\n",
    "data = pd.read_csv(file, header=None)\n",
    "# removendo a ultima coluna dos dados\n",
    "# The 35th attribute is either \"good\" or \"bad\" according to the definition summarized above.  This is a binary classification task.\n",
    "print(data.shape)"
   ]
  },
  {
   "cell_type": "markdown",
   "id": "5db62dcf-4896-4c1a-9d1e-4fd113b082a6",
   "metadata": {},
   "source": [
    "# 1ª Questão"
   ]
  },
  {
   "cell_type": "code",
   "execution_count": 29,
   "id": "7251ba6d-4904-4cd6-8fe0-9e73ada638a1",
   "metadata": {},
   "outputs": [
    {
     "name": "stdout",
     "output_type": "stream",
     "text": [
      "(351, 34)\n",
      "34 351\n"
     ]
    }
   ],
   "source": [
    "data_no_label = data.iloc[:, :-1]\n",
    "print(data_no_label.shape)\n",
    "#data_no_label = data_no_label.T\n",
    "#print(data_no_label.shape)\n",
    "p = data_no_label.shape[1]\n",
    "N = data_no_label.shape[0]\n",
    "print(p,N)"
   ]
  },
  {
   "cell_type": "code",
   "execution_count": 33,
   "id": "db1edeb9-5056-44b7-9292-85add7bc0999",
   "metadata": {},
   "outputs": [
    {
     "name": "stdout",
     "output_type": "stream",
     "text": [
      "0     0.891738\n",
      "1     0.000000\n",
      "2     0.641342\n",
      "3     0.044372\n",
      "4     0.601068\n",
      "5     0.115889\n",
      "6     0.550095\n",
      "7     0.119360\n",
      "8     0.511848\n",
      "9     0.181345\n",
      "10    0.476183\n",
      "11    0.155040\n",
      "12    0.400801\n",
      "13    0.093414\n",
      "14    0.344159\n",
      "15    0.071132\n",
      "16    0.381949\n",
      "17   -0.003617\n",
      "18    0.359390\n",
      "19   -0.024025\n",
      "20    0.336695\n",
      "21    0.008296\n",
      "22    0.362475\n",
      "23   -0.057406\n",
      "24    0.396135\n",
      "25   -0.071187\n",
      "26    0.541641\n",
      "27   -0.069538\n",
      "28    0.378445\n",
      "29   -0.027907\n",
      "30    0.352514\n",
      "31   -0.003794\n",
      "32    0.349364\n",
      "33    0.014480\n",
      "dtype: float64\n"
     ]
    }
   ],
   "source": [
    "m = np.mean(data_no_label, axis=0)\n",
    "print(m)"
   ]
  },
  {
   "cell_type": "markdown",
   "id": "a51a99a5-abb0-4bb3-9af3-0e5176be8154",
   "metadata": {},
   "source": [
    "## Matriz de correlacao"
   ]
  },
  {
   "cell_type": "code",
   "execution_count": 38,
   "id": "87ea84bb-d24d-4581-9642-6df3f99d3d3e",
   "metadata": {},
   "outputs": [
    {
     "name": "stdout",
     "output_type": "stream",
     "text": [
      "          0    1         2         3         4             5         6    7    \\\n",
      "0    0.002849  0.0  0.002836 -0.000168  0.002429  6.569801e-05  0.002376 -0.0   \n",
      "1    0.000000  0.0  0.000000 -0.000000  0.000000 -0.000000e+00 -0.000000 -0.0   \n",
      "2    0.002836  0.0  0.002849 -0.000096  0.002849  3.229188e-07  0.002780 -0.0   \n",
      "3   -0.000168 -0.0 -0.000096  0.000581 -0.000068 -1.686610e-05 -0.000215 -0.0   \n",
      "4    0.002429  0.0  0.002849 -0.000068  0.002525 -1.846543e-05  0.002482 -0.0   \n",
      "..        ...  ...       ...       ...       ...           ...       ...  ...   \n",
      "346       NaN  NaN       NaN       NaN       NaN           NaN       NaN  NaN   \n",
      "347       NaN  NaN       NaN       NaN       NaN           NaN       NaN  NaN   \n",
      "348       NaN  NaN       NaN       NaN       NaN           NaN       NaN  NaN   \n",
      "349       NaN  NaN       NaN       NaN       NaN           NaN       NaN  NaN   \n",
      "350       NaN  NaN       NaN       NaN       NaN           NaN       NaN  NaN   \n",
      "\n",
      "          8             9    ...  341  342  343  344  345  346  347  348  349  \\\n",
      "0    0.002849  1.071225e-04  ...  NaN  NaN  NaN  NaN  NaN  NaN  NaN  NaN  NaN   \n",
      "1    0.000000 -0.000000e+00  ...  NaN  NaN  NaN  NaN  NaN  NaN  NaN  NaN  NaN   \n",
      "2    0.002442 -6.362028e-07  ...  NaN  NaN  NaN  NaN  NaN  NaN  NaN  NaN  NaN   \n",
      "3   -0.000000 -0.000000e+00  ...  NaN  NaN  NaN  NaN  NaN  NaN  NaN  NaN  NaN   \n",
      "4    0.002198 -0.000000e+00  ...  NaN  NaN  NaN  NaN  NaN  NaN  NaN  NaN  NaN   \n",
      "..        ...           ...  ...  ...  ...  ...  ...  ...  ...  ...  ...  ...   \n",
      "346       NaN           NaN  ...  NaN  NaN  NaN  NaN  NaN  NaN  NaN  NaN  NaN   \n",
      "347       NaN           NaN  ...  NaN  NaN  NaN  NaN  NaN  NaN  NaN  NaN  NaN   \n",
      "348       NaN           NaN  ...  NaN  NaN  NaN  NaN  NaN  NaN  NaN  NaN  NaN   \n",
      "349       NaN           NaN  ...  NaN  NaN  NaN  NaN  NaN  NaN  NaN  NaN  NaN   \n",
      "350       NaN           NaN  ...  NaN  NaN  NaN  NaN  NaN  NaN  NaN  NaN  NaN   \n",
      "\n",
      "     350  \n",
      "0    NaN  \n",
      "1    NaN  \n",
      "2    NaN  \n",
      "3    NaN  \n",
      "4    NaN  \n",
      "..   ...  \n",
      "346  NaN  \n",
      "347  NaN  \n",
      "348  NaN  \n",
      "349  NaN  \n",
      "350  NaN  \n",
      "\n",
      "[351 rows x 351 columns]\n"
     ]
    }
   ],
   "source": [
    "correlacao = (data_no_label * data_no_label.T) / N\n",
    "print(correlacao)"
   ]
  },
  {
   "cell_type": "markdown",
   "id": "b00a071d-57e3-452e-8b9d-6b9cd342061b",
   "metadata": {},
   "source": [
    "## Matriz de covariância Implementada"
   ]
  },
  {
   "cell_type": "code",
   "execution_count": 35,
   "id": "f9bd3b0b-492a-4535-9eab-f29369366862",
   "metadata": {},
   "outputs": [
    {
     "data": {
      "text/plain": [
       "(351, 351)"
      ]
     },
     "execution_count": 35,
     "metadata": {},
     "output_type": "execute_result"
    }
   ],
   "source": [
    "covariancia = correlacao - (m * m.T)\n",
    "covariancia.shape\n",
    "#print(covariancia)"
   ]
  },
  {
   "cell_type": "markdown",
   "id": "c2eb7335-3f4a-4709-9765-a731528bb28f",
   "metadata": {},
   "source": [
    "## Matriz de covariância no python"
   ]
  },
  {
   "cell_type": "code",
   "execution_count": 15,
   "id": "c01f3da5-6bcf-4a8f-b60f-a074f4ff12ee",
   "metadata": {},
   "outputs": [
    {
     "data": {
      "text/plain": [
       "(34, 34)"
      ]
     },
     "execution_count": 15,
     "metadata": {},
     "output_type": "execute_result"
    }
   ],
   "source": [
    "cov = np.cov(data_no_label)\n",
    "cov.shape\n",
    "#print(cov)\n",
    "#print(cov[:1, :])"
   ]
  }
 ],
 "metadata": {
  "kernelspec": {
   "display_name": "Python 3",
   "language": "python",
   "name": "python3"
  },
  "language_info": {
   "codemirror_mode": {
    "name": "ipython",
    "version": 3
   },
   "file_extension": ".py",
   "mimetype": "text/x-python",
   "name": "python",
   "nbconvert_exporter": "python",
   "pygments_lexer": "ipython3",
   "version": "3.8.2"
  }
 },
 "nbformat": 4,
 "nbformat_minor": 5
}
