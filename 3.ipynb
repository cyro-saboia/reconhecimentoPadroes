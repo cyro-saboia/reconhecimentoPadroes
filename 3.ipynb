{
 "cells": [
  {
   "cell_type": "code",
   "execution_count": 1,
   "id": "5b89edff-6cde-49ed-a4d1-abf9e278840c",
   "metadata": {},
   "outputs": [],
   "source": [
    "import pandas as pd\n",
    "import numpy as np"
   ]
  },
  {
   "cell_type": "markdown",
   "id": "4f8114ff-d9e4-49c3-9280-9881e43f8587",
   "metadata": {},
   "source": [
    "The targets were free electrons in the ionosphere. \"Good\" radar returns are those showing evidence of some type of structure in the ionosphere.  \"Bad\" returns are those that do not"
   ]
  },
  {
   "cell_type": "code",
   "execution_count": 2,
   "id": "b8712538-7195-40b7-88aa-c384ddd464f4",
   "metadata": {},
   "outputs": [
    {
     "name": "stdout",
     "output_type": "stream",
     "text": [
      "(351, 35)\n"
     ]
    }
   ],
   "source": [
    "file = 'ionosphere.data'\n",
    "data = pd.read_csv(file, header=None)\n",
    "print(data.shape)"
   ]
  },
  {
   "cell_type": "raw",
   "id": "9fc582f2-56eb-4bb9-83bb-1f6e6e0a3b24",
   "metadata": {},
   "source": [
    "Considerando as informações de http://archive.ics.uci.edu/dataset/52/ionosphere, nossa base de dados possue duas classes: \"good\" e \"bad\"."
   ]
  },
  {
   "cell_type": "code",
   "execution_count": 3,
   "id": "9e5267bb-2c37-4121-b934-b3e97bd2768e",
   "metadata": {},
   "outputs": [
    {
     "name": "stdout",
     "output_type": "stream",
     "text": [
      "(126, 35)\n",
      "(225, 35)\n"
     ]
    }
   ],
   "source": [
    "classe_b = data[data.iloc[:, -1] == 'b']\n",
    "print(classe_b.shape)\n",
    "classe_g = data[data.iloc[:, -1] == 'g']\n",
    "print(classe_g.shape)"
   ]
  },
  {
   "cell_type": "code",
   "execution_count": 4,
   "id": "8308e00a-8ecf-472e-986e-7ea7d264ab6f",
   "metadata": {},
   "outputs": [
    {
     "name": "stdout",
     "output_type": "stream",
     "text": [
      "(126, 34)\n",
      "[[ 0.21231746  0.          0.02615296 ... -0.03765241  0.01883534\n",
      "   0.0165929 ]\n",
      " [ 0.          0.          0.         ...  0.          0.\n",
      "   0.        ]\n",
      " [ 0.02615296  0.          0.43426932 ...  0.01533725  0.0625101\n",
      "   0.02698674]\n",
      " ...\n",
      " [-0.03765241  0.          0.01533725 ...  0.44010465  0.0458018\n",
      "   0.07988746]\n",
      " [ 0.01883534  0.          0.0625101  ...  0.0458018   0.33238603\n",
      "  -0.05122951]\n",
      " [ 0.0165929   0.          0.02698674 ...  0.07988746 -0.05122951\n",
      "   0.31987465]]\n"
     ]
    }
   ],
   "source": [
    "data_classe_b = classe_b.iloc[:, :-1]\n",
    "print(data_classe_b.shape)\n",
    "cov_classe_b = np.cov(data_classe_b, rowvar=False)\n",
    "print(cov_classe_b)"
   ]
  },
  {
   "cell_type": "code",
   "execution_count": 5,
   "id": "ae5b7d35-400e-4f41-923f-de42a5b387f9",
   "metadata": {},
   "outputs": [
    {
     "name": "stdout",
     "output_type": "stream",
     "text": [
      "(225, 34)\n",
      "[[ 0.          0.          0.         ...  0.          0.\n",
      "   0.        ]\n",
      " [ 0.          0.          0.         ...  0.          0.\n",
      "   0.        ]\n",
      " [ 0.          0.          0.04039954 ... -0.00482091  0.0170484\n",
      "  -0.00271406]\n",
      " ...\n",
      " [ 0.          0.         -0.00482091 ...  0.16599451 -0.02706714\n",
      "   0.14809712]\n",
      " [ 0.          0.          0.0170484  ... -0.02706714  0.21224406\n",
      "  -0.0154278 ]\n",
      " [ 0.          0.         -0.00271406 ...  0.14809712 -0.0154278\n",
      "   0.16280573]]\n"
     ]
    }
   ],
   "source": [
    "data_classe_g = classe_g.iloc[:, :-1]\n",
    "print(data_classe_g.shape)\n",
    "cov_classe_g = np.cov(data_classe_g, rowvar=False)\n",
    "print(cov_classe_g)"
   ]
  }
 ],
 "metadata": {
  "kernelspec": {
   "display_name": "Python 3",
   "language": "python",
   "name": "python3"
  },
  "language_info": {
   "codemirror_mode": {
    "name": "ipython",
    "version": 3
   },
   "file_extension": ".py",
   "mimetype": "text/x-python",
   "name": "python",
   "nbconvert_exporter": "python",
   "pygments_lexer": "ipython3",
   "version": "3.8.2"
  }
 },
 "nbformat": 4,
 "nbformat_minor": 5
}
