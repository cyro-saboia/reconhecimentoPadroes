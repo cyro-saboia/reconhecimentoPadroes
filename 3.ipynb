{
 "cells": [
  {
   "cell_type": "code",
   "execution_count": 1,
   "id": "5b89edff-6cde-49ed-a4d1-abf9e278840c",
   "metadata": {},
   "outputs": [],
   "source": [
    "import pandas as pd\n",
    "import numpy as np"
   ]
  },
  {
   "cell_type": "code",
   "execution_count": 17,
   "id": "b8712538-7195-40b7-88aa-c384ddd464f4",
   "metadata": {},
   "outputs": [
    {
     "name": "stdout",
     "output_type": "stream",
     "text": [
      "(351, 35)\n"
     ]
    }
   ],
   "source": [
    "file = 'ionosphere.data'\n",
    "data = pd.read_csv(file, header=None)\n",
    "print(data.shape)"
   ]
  },
  {
   "cell_type": "code",
   "execution_count": 18,
   "id": "9e5267bb-2c37-4121-b934-b3e97bd2768e",
   "metadata": {},
   "outputs": [
    {
     "name": "stdout",
     "output_type": "stream",
     "text": [
      "(126, 35)\n",
      "(225, 35)\n"
     ]
    }
   ],
   "source": [
    "classe_b = data[data.iloc[:, -1] == 'b']\n",
    "print(classe_b.shape)\n",
    "classe_g = data[data.iloc[:, -1] == 'g']\n",
    "print(classe_g.shape)"
   ]
  },
  {
   "cell_type": "code",
   "execution_count": 21,
   "id": "8308e00a-8ecf-472e-986e-7ea7d264ab6f",
   "metadata": {},
   "outputs": [
    {
     "name": "stdout",
     "output_type": "stream",
     "text": [
      "(126, 34)\n",
      "[[ 0.28012466  0.11595781  0.04797851 ... -0.00062636 -0.05663107\n",
      "   0.0291638 ]\n",
      " [ 0.11595781  0.44325444  0.035077   ... -0.01466273  0.01112915\n",
      "   0.09368152]\n",
      " [ 0.04797851  0.035077    0.03474334 ... -0.00377667  0.02049266\n",
      "   0.03286283]\n",
      " ...\n",
      " [-0.00062636 -0.01466273 -0.00377667 ...  0.06060606  0.06060606\n",
      "   0.02343424]\n",
      " [-0.05663107  0.01112915  0.02049266 ...  0.06060606  0.45431437\n",
      "   0.13625132]\n",
      " [ 0.0291638   0.09368152  0.03286283 ...  0.02343424  0.13625132\n",
      "   0.27773196]]\n"
     ]
    }
   ],
   "source": [
    "data_classe_b = classe_b.iloc[:, :-1]\n",
    "print(data_classe_b.shape)\n",
    "cov_classe_b = np.cov(data_classe_b)\n",
    "print(cov_classe_b)"
   ]
  },
  {
   "cell_type": "code",
   "execution_count": 22,
   "id": "ae5b7d35-400e-4f41-923f-de42a5b387f9",
   "metadata": {},
   "outputs": [
    {
     "name": "stdout",
     "output_type": "stream",
     "text": [
      "(225, 34)\n",
      "[[0.28317304 0.24055214 0.24016738 ... 0.22575838 0.23605557 0.21201986]\n",
      " [0.24055214 0.21989283 0.21117637 ... 0.20522497 0.21427093 0.19386958]\n",
      " [0.24016738 0.21117637 0.24253707 ... 0.17510282 0.18575889 0.16829145]\n",
      " ...\n",
      " [0.22575838 0.20522497 0.17510282 ... 0.21945566 0.22624042 0.20167489]\n",
      " [0.23605557 0.21427093 0.18575889 ... 0.22624042 0.23598079 0.20799426]\n",
      " [0.21201986 0.19386958 0.16829145 ... 0.20167489 0.20799426 0.18999644]]\n"
     ]
    }
   ],
   "source": [
    "data_classe_g = classe_g.iloc[:, :-1]\n",
    "print(data_classe_g.shape)\n",
    "cov_classe_g = np.cov(data_classe_g)\n",
    "print(cov_classe_g)"
   ]
  }
 ],
 "metadata": {
  "kernelspec": {
   "display_name": "Python 3",
   "language": "python",
   "name": "python3"
  },
  "language_info": {
   "codemirror_mode": {
    "name": "ipython",
    "version": 3
   },
   "file_extension": ".py",
   "mimetype": "text/x-python",
   "name": "python",
   "nbconvert_exporter": "python",
   "pygments_lexer": "ipython3",
   "version": "3.8.2"
  }
 },
 "nbformat": 4,
 "nbformat_minor": 5
}
